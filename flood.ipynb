{
  "cells": [
    {
      "cell_type": "markdown",
      "metadata": {
        "id": "view-in-github",
        "colab_type": "text"
      },
      "source": [
        "<a href=\"https://colab.research.google.com/gist/sajedeh2112/8aac305aa16006f347dc17b6a3394552/flood.ipynb\" target=\"_parent\"><img src=\"https://colab.research.google.com/assets/colab-badge.svg\" alt=\"Open In Colab\"/></a>"
      ]
    },
    {
      "cell_type": "markdown",
      "metadata": {
        "id": "bZiO3A9Li7dw"
      },
      "source": [
        "# Prepare data"
      ]
    },
    {
      "cell_type": "code",
      "execution_count": null,
      "metadata": {
        "colab": {
          "base_uri": "https://localhost:8080/"
        },
        "id": "qa9z9XL1m8PZ",
        "outputId": "be672129-f778-4ae0-8df7-483ac463d61e"
      },
      "outputs": [
        {
          "name": "stdout",
          "output_type": "stream",
          "text": [
            "--2022-04-30 09:37:32--  https://jarkani.ir/flood/Australia_flood_9_10_11.txt\n",
            "Resolving jarkani.ir (jarkani.ir)... 116.202.89.179\n",
            "Connecting to jarkani.ir (jarkani.ir)|116.202.89.179|:443... connected.\n",
            "HTTP request sent, awaiting response... 200 OK\n",
            "Length: 309348 (302K) [text/plain]\n",
            "Saving to: ‘Australia_flood_9_10_11.txt’\n",
            "\n",
            "Australia_flood_9_1 100%[===================>] 302.10K  1014KB/s    in 0.3s    \n",
            "\n",
            "2022-04-30 09:37:34 (1014 KB/s) - ‘Australia_flood_9_10_11.txt’ saved [309348/309348]\n",
            "\n"
          ]
        }
      ],
      "source": [
        "!wget \"https://jarkani.ir/flood/Australia_flood_9_10_11.txt\""
      ]
    },
    {
      "cell_type": "code",
      "execution_count": null,
      "metadata": {
        "id": "4kKmSw-wsLeG"
      },
      "outputs": [],
      "source": [
        "import numpy as np\n",
        "from keras.utils import np_utils"
      ]
    },
    {
      "cell_type": "code",
      "execution_count": null,
      "metadata": {
        "id": "967QKHYyn4Ha"
      },
      "outputs": [],
      "source": [
        "file = open(\"Australia_flood_9_10_11.txt\", \"r\", encoding='Latin-1')\n",
        "content = file.read()\n",
        "lines = content.split(\"\\n\")"
      ]
    },
    {
      "cell_type": "code",
      "execution_count": null,
      "metadata": {
        "id": "ChXeOvMWbZ4g"
      },
      "outputs": [],
      "source": [
        "# from random import shuffle\n",
        "\n",
        "# shuffle(lines)\n",
        "# content = \"\\n\".join(lines)\n",
        "# file = open(\"Australia_flood_9_10_11.txt\", \"w\", encoding='Latin-1')\n",
        "# file.write(content)\n",
        "# file.close()"
      ]
    },
    {
      "cell_type": "code",
      "execution_count": null,
      "metadata": {
        "id": "SDJdx9x0sGTW"
      },
      "outputs": [],
      "source": [
        "# Create empty array for this groups:\n",
        "# No need (0)\n",
        "# Need    (1)\n",
        "groups = np.zeros((len(lines), 1))\n",
        "\n",
        "# Create empty matrix for\n",
        "# injured\n",
        "# live\n",
        "# medical\n",
        "# transmit\n",
        "what_needed = np.zeros((len(lines), 4))\n",
        "\n",
        "texts = []"
      ]
    },
    {
      "cell_type": "code",
      "execution_count": null,
      "metadata": {
        "id": "cu4GTT4ut1Uc"
      },
      "outputs": [],
      "source": [
        "for i in range(len(lines)):\n",
        "  parts = lines[i].split(\"\\t\")\n",
        "  group, *extra = parts[0].split(\" \")[0]\n",
        "\n",
        "  groups[i] = float(group)\n",
        "\n",
        "  if (group == '1'):\n",
        "    what_needed[i, 0] = '1' in extra  # injured\n",
        "    what_needed[i, 1] = '2' in extra  # live\n",
        "    what_needed[i, 2] = '3' in extra  # medical\n",
        "    what_needed[i, 3] = '4' in extra  # transmit\n",
        "\n",
        "  texts.append(parts[-1])"
      ]
    },
    {
      "cell_type": "code",
      "execution_count": null,
      "metadata": {
        "id": "FonTymfYa-0Y"
      },
      "outputs": [],
      "source": [
        "# groups"
      ]
    },
    {
      "cell_type": "code",
      "execution_count": null,
      "metadata": {
        "id": "S5BqiRnHQFk9"
      },
      "outputs": [],
      "source": [
        "# what_needed[:100]"
      ]
    },
    {
      "cell_type": "code",
      "execution_count": null,
      "metadata": {
        "id": "UWQlZCv44K6F"
      },
      "outputs": [],
      "source": [
        "y1 = groups\n",
        "y2 = what_needed\n",
        "texts = np.array(texts)\n",
        "\n",
        "# print(y1.shape)\n",
        "# print(y2.shape)"
      ]
    },
    {
      "cell_type": "code",
      "execution_count": null,
      "metadata": {
        "id": "0TkhJLbI6ylv"
      },
      "outputs": [],
      "source": [
        "train_test_split = 1000\n",
        "\n",
        "y1_train = y1[:train_test_split]\n",
        "y1_test = y1[train_test_split:]\n",
        "\n",
        "train_need_help_indexes = np.where(y1_train == 1.)[0]\n",
        "test_need_help_indexes = np.where(y1_test == 1.)[0]\n",
        "\n",
        "y2_train = y2[:train_test_split][train_need_help_indexes]\n",
        "y2_test = y2[train_test_split:][test_need_help_indexes]\n",
        "\n",
        "train_texts = texts[:train_test_split]\n",
        "test_texts = texts[train_test_split:]"
      ]
    },
    {
      "cell_type": "code",
      "execution_count": null,
      "metadata": {
        "colab": {
          "base_uri": "https://localhost:8080/"
        },
        "id": "vfpRu57Ie_qR",
        "outputId": "50a45f11-892a-4d1f-cf9b-3ffeae8fc913"
      },
      "outputs": [
        {
          "data": {
            "text/plain": [
              "(0.258, 0.23655913978494625)"
            ]
          },
          "execution_count": 11,
          "metadata": {},
          "output_type": "execute_result"
        }
      ],
      "source": [
        "y1_train.mean(), y1_test.mean()"
      ]
    },
    {
      "cell_type": "code",
      "execution_count": null,
      "metadata": {
        "colab": {
          "base_uri": "https://localhost:8080/"
        },
        "id": "YYd2NJZNeq3E",
        "outputId": "691fe747-ca83-4b5a-e10f-20caf0faf0d0"
      },
      "outputs": [
        {
          "data": {
            "text/plain": [
              "(array([0.16666667, 0.29069767, 0.01937984, 0.58914729]),\n",
              " array([0.1       , 0.35454545, 0.01818182, 0.58181818]))"
            ]
          },
          "execution_count": 12,
          "metadata": {},
          "output_type": "execute_result"
        }
      ],
      "source": [
        "y2_train.mean(axis=0), y2_test.mean(axis=0)"
      ]
    },
    {
      "cell_type": "code",
      "execution_count": null,
      "metadata": {
        "colab": {
          "base_uri": "https://localhost:8080/"
        },
        "id": "CvJLzMsN7JqF",
        "outputId": "6ef35e64-50ac-468f-cc6b-0f0144df90e1"
      },
      "outputs": [
        {
          "name": "stdout",
          "output_type": "stream",
          "text": [
            "############### Shape ###################\n",
            "Train Y1 shape:  (1000, 1)\n",
            "Test Y1 shape:   (465, 1)\n",
            "Train Y2 shape:  (258, 4)\n",
            "Test Y2 shape:   (110, 4)\n",
            "Train samples:  1000\n",
            "Test samples:   465\n",
            "#########################################\n"
          ]
        }
      ],
      "source": [
        "print(\"############### Shape ###################\")\n",
        "print(\"Train Y1 shape: \", y1_train.shape)\n",
        "print(\"Test Y1 shape:  \", y1_test.shape)\n",
        "\n",
        "print(\"Train Y2 shape: \", y2_train.shape)\n",
        "print(\"Test Y2 shape:  \", y2_test.shape)\n",
        "\n",
        "print(\"Train samples: \", len(train_texts))\n",
        "print(\"Test samples:  \", len(test_texts))\n",
        "print(\"#########################################\")"
      ]
    },
    {
      "cell_type": "code",
      "execution_count": null,
      "metadata": {
        "id": "GyAm_82rq0h3"
      },
      "outputs": [],
      "source": [
        "class Vocabulary:\n",
        "    def __init__(self):\n",
        "      self.word2index = {\"\":0}\n",
        "      self.word2count = {\"\":0}\n",
        "      self.index2word = [\"\"]\n",
        "      self.num_words = 1\n",
        "\n",
        "      escape_chars = {}\n",
        "      for char in list(\"!.#,?@$%&*()+-[]\\/|:\"):\n",
        "        escape_chars[char] = ''\n",
        "      self.translate = str.maketrans(escape_chars)\n",
        "\n",
        "    def word_correction(self, word):\n",
        "      return word.lower().strip().translate(self.translate)\n",
        "\n",
        "    def add_word(self, word):\n",
        "      if (word[:8] == 'https://'):\n",
        "        return\n",
        "\n",
        "      word = self.word_correction(word)\n",
        "      if len(word) == 0:\n",
        "        return\n",
        "\n",
        "      if word not in self.word2index:\n",
        "          # First entry of word into vocabulary\n",
        "          self.word2index[word] = self.num_words\n",
        "          self.word2count[word] = 1\n",
        "          self.index2word.append(word)\n",
        "          self.num_words += 1\n",
        "      else:\n",
        "          # Word exists; increase word count\n",
        "          self.word2count[word] += 1\n",
        "\n",
        "    def load(self, texts):\n",
        "      for text in texts:\n",
        "        for word in text.split(' '):\n",
        "          self.add_word(word)\n",
        "\n",
        "    def has(self, word):\n",
        "      return word in self.word2index\n",
        "\n",
        "    def to_word(self, index):\n",
        "        return self.index2word[index]\n",
        "\n",
        "    def to_index(self, word):\n",
        "        return self.word2index[word]\n",
        "\n",
        "    def histogram(self):\n",
        "      counts = np.array(list(voc.word2count.values()))\n",
        "      return np.histogram(counts, bins=counts.max(), range=(0, counts.max()))\n",
        "\n",
        "    def encode(self, text):\n",
        "      encode = []\n",
        "      for word in text.split(' '):\n",
        "        word = self.word_correction(word)\n",
        "        if len(word) > 0 and self.has(word):\n",
        "          encode.append(self.word2index[word])\n",
        "\n",
        "      return encode\n",
        "\n",
        "    def decode(self, encoded):\n",
        "      decoded = []\n",
        "      for i in encoded:\n",
        "        if i < 1:\n",
        "          continue\n",
        "        decoded.append(self.index2word[int(i)])\n",
        "\n",
        "      return \" \".join(decoded)\n",
        "\n",
        "    def threshold(self, threshold):\n",
        "      w2i = {}\n",
        "      i2w = [\"\"]\n",
        "      num = 1\n",
        "      c = {}\n",
        "\n",
        "      for word in self.index2word:\n",
        "        if self.word2count[word] >= threshold:\n",
        "          w2i[word] = num\n",
        "          i2w.append(word)\n",
        "          c[word] = self.word2count[word]\n",
        "          num += 1\n",
        "\n",
        "      self.word2count = c\n",
        "      self.word2index = w2i\n",
        "      self.index2word = i2w\n",
        "      self.num_words = num"
      ]
    },
    {
      "cell_type": "code",
      "execution_count": null,
      "metadata": {
        "id": "cHi5Gzs2-w-E"
      },
      "outputs": [],
      "source": [
        "voc = Vocabulary()\n",
        "voc.load(texts)\n",
        "\n",
        "# See word repeat\n",
        "# print(voc.histogram()[0][:100])\n",
        "\n",
        "# Remove words that repeated less thar 4\n",
        "voc.threshold(4)\n",
        "\n",
        "# See all words in dictionary\n",
        "# print(\"Words: \", voc.index2word)"
      ]
    },
    {
      "cell_type": "code",
      "execution_count": null,
      "metadata": {
        "id": "vCguxEn-Nr6d"
      },
      "outputs": [],
      "source": [
        "#############################################\n",
        "# We can encode and decode a text like this:\n",
        "# sample = texts[10]\n",
        "# encoded = voc.encode(sample)\n",
        "# decoded = voc.decode(encoded)\n",
        "\n",
        "# print(\"Original text: \", sample)\n",
        "# print(\"Encoded:       \", encoded)\n",
        "# print(\"Decoded:       \", decoded)\n",
        "##############################################"
      ]
    },
    {
      "cell_type": "code",
      "execution_count": null,
      "metadata": {
        "id": "Zd0IPKF5RlRV"
      },
      "outputs": [],
      "source": [
        "# Encode entire texts\n",
        "encoded_list = []\n",
        "for text in texts:\n",
        "  encoded_list.append(voc.encode(text))"
      ]
    },
    {
      "cell_type": "code",
      "execution_count": null,
      "metadata": {
        "id": "hDa5okmQPW4v"
      },
      "outputs": [],
      "source": [
        "# Find appropriate sequence length:\n",
        "# counts = np.array(list(map(lambda l: len(l), encoded_list[:train_test_split])))\n",
        "# np.histogram(counts, bins=counts.max(), range=(0, counts.max()))\n",
        "# Seems 42 is fine for sequence length"
      ]
    },
    {
      "cell_type": "code",
      "execution_count": null,
      "metadata": {
        "id": "yU2aco8MSy9q"
      },
      "outputs": [],
      "source": [
        "MAX_LENGTH = 42\n",
        "x = np.zeros((len(encoded_list), MAX_LENGTH))"
      ]
    },
    {
      "cell_type": "code",
      "execution_count": null,
      "metadata": {
        "id": "KkS4oYS7V1E3"
      },
      "outputs": [],
      "source": [
        "for i in range(len(encoded_list)):\n",
        "  encoded = encoded_list[i][:MAX_LENGTH]\n",
        "  x[i, MAX_LENGTH-len(encoded):] = np.array(encoded)"
      ]
    },
    {
      "cell_type": "code",
      "execution_count": null,
      "metadata": {
        "id": "pcBtuzy5YeeY"
      },
      "outputs": [],
      "source": [
        "x1_train = x[:train_test_split]\n",
        "x1_test = x[train_test_split:]\n",
        "\n",
        "x2_train = x1_train[train_need_help_indexes]\n",
        "x2_test = x1_test[test_need_help_indexes]"
      ]
    },
    {
      "cell_type": "code",
      "execution_count": null,
      "metadata": {
        "id": "P-VGVX2bVvY4"
      },
      "outputs": [],
      "source": [
        "from tensorflow.keras.models import Sequential\n",
        "from tensorflow.keras.layers import Embedding, BatchNormalization, Dense, Dropout, SimpleRNN, LSTM, GRU, Conv1D, MaxPooling1D, Flatten, Input\n",
        "from tensorflow.keras.optimizers import Adam\n",
        "from tensorflow.keras.optimizers.schedules import ExponentialDecay\n",
        "from tensorflow.keras.callbacks import EarlyStopping\n",
        "from tensorflow.keras.models import load_model\n",
        "from tensorflow.keras import Model\n",
        "from sklearn.metrics import confusion_matrix\n",
        "\n",
        "\n",
        "\n",
        "def early_stopping():\n",
        "  return EarlyStopping(monitor=\"val_loss\",\n",
        "                         patience=3,\n",
        "                         restore_best_weights=True,\n",
        "                         verbose = 1)"
      ]
    },
    {
      "cell_type": "markdown",
      "metadata": {
        "id": "NokujgG8i3ee"
      },
      "source": [
        "# Model 1"
      ]
    },
    {
      "cell_type": "markdown",
      "metadata": {
        "id": "1yfq8pBMfY07"
      },
      "source": [
        "## LSTM"
      ]
    },
    {
      "cell_type": "code",
      "execution_count": null,
      "metadata": {
        "colab": {
          "base_uri": "https://localhost:8080/"
        },
        "id": "tAQcrdEXX1__",
        "outputId": "43cf9c65-0a10-4b54-b7bb-6c1a31c97589"
      },
      "outputs": [
        {
          "name": "stdout",
          "output_type": "stream",
          "text": [
            "Model: \"model1_LSTM\"\n",
            "_________________________________________________________________\n",
            " Layer (type)                Output Shape              Param #   \n",
            "=================================================================\n",
            " embedding (Embedding)       (None, 42, 128)           84224     \n",
            "                                                                 \n",
            " lstm (LSTM)                 (None, 64)                49408     \n",
            "                                                                 \n",
            " batch_normalization (BatchN  (None, 64)               256       \n",
            " ormalization)                                                   \n",
            "                                                                 \n",
            " dense (Dense)               (None, 32)                2080      \n",
            "                                                                 \n",
            " dense_1 (Dense)             (None, 16)                528       \n",
            "                                                                 \n",
            " dense_2 (Dense)             (None, 8)                 136       \n",
            "                                                                 \n",
            " dropout (Dropout)           (None, 8)                 0         \n",
            "                                                                 \n",
            " batch_normalization_1 (Batc  (None, 8)                32        \n",
            " hNormalization)                                                 \n",
            "                                                                 \n",
            " dense_3 (Dense)             (None, 1)                 9         \n",
            "                                                                 \n",
            "=================================================================\n",
            "Total params: 136,673\n",
            "Trainable params: 136,529\n",
            "Non-trainable params: 144\n",
            "_________________________________________________________________\n"
          ]
        }
      ],
      "source": [
        "############################# Create models ##############################\n",
        "\n",
        "# First create a model to classify need help or not\n",
        "model = Sequential(name=\"model1_LSTM\")\n",
        "model.add(Embedding(voc.num_words, 128, input_length=MAX_LENGTH))\n",
        "model.add(LSTM(64, return_sequences=False))\n",
        "model.add(BatchNormalization())\n",
        "model.add(Dense(32, activation='tanh'))\n",
        "model.add(Dense(16, activation='tanh'))\n",
        "model.add(Dense(8, activation='tanh'))\n",
        "model.add(Dropout(0.75))\n",
        "model.add(BatchNormalization())\n",
        "model.add(Dense(1, activation='sigmoid'))\n",
        "\n",
        "model.compile(loss='binary_crossentropy', optimizer='Adam', metrics=['accuracy'])\n",
        "\n",
        "model.summary()"
      ]
    },
    {
      "cell_type": "code",
      "execution_count": null,
      "metadata": {
        "id": "yphSRJaV3KXV"
      },
      "outputs": [],
      "source": [
        "class_weight = {0: 1., 1: 4.}"
      ]
    },
    {
      "cell_type": "code",
      "execution_count": null,
      "metadata": {
        "colab": {
          "base_uri": "https://localhost:8080/"
        },
        "id": "y5I5SdItduN-",
        "outputId": "5c7436fb-70a3-45a5-d9c9-0fcd66e6431f"
      },
      "outputs": [
        {
          "name": "stdout",
          "output_type": "stream",
          "text": [
            "Epoch 1/100\n",
            "8/8 [==============================] - 1s 112ms/step - loss: 0.3658 - accuracy: 0.8950 - val_loss: 0.2710 - val_accuracy: 0.9161\n",
            "Epoch 2/100\n",
            "8/8 [==============================] - 1s 100ms/step - loss: 0.3153 - accuracy: 0.9000 - val_loss: 0.2526 - val_accuracy: 0.9527\n",
            "Epoch 3/100\n",
            "8/8 [==============================] - 1s 101ms/step - loss: 0.2987 - accuracy: 0.9070 - val_loss: 0.2419 - val_accuracy: 0.9613\n",
            "Epoch 4/100\n",
            "8/8 [==============================] - 1s 99ms/step - loss: 0.3262 - accuracy: 0.9020 - val_loss: 0.2670 - val_accuracy: 0.9183\n",
            "Epoch 5/100\n",
            "8/8 [==============================] - 1s 104ms/step - loss: 0.3222 - accuracy: 0.9280 - val_loss: 0.3226 - val_accuracy: 0.8968\n",
            "Epoch 6/100\n",
            "8/8 [==============================] - ETA: 0s - loss: 0.2997 - accuracy: 0.9020Restoring model weights from the end of the best epoch: 3.\n",
            "8/8 [==============================] - 1s 105ms/step - loss: 0.2997 - accuracy: 0.9020 - val_loss: 0.3270 - val_accuracy: 0.9011\n",
            "Epoch 6: early stopping\n"
          ]
        },
        {
          "data": {
            "text/plain": [
              "<keras.callbacks.History at 0x7efc7290be50>"
            ]
          },
          "execution_count": 48,
          "metadata": {},
          "output_type": "execute_result"
        }
      ],
      "source": [
        "model.fit(x1_train, y1_train, batch_size=128, epochs=100,class_weight = class_weight , callbacks=[early_stopping()], validation_data=(x1_test, y1_test))"
      ]
    },
    {
      "cell_type": "code",
      "execution_count": null,
      "metadata": {
        "id": "m2ezIwzIinJM"
      },
      "outputs": [],
      "source": [
        "# model.save(\"model1_LSTM.h5\")"
      ]
    },
    {
      "cell_type": "code",
      "execution_count": null,
      "metadata": {
        "id": "TfgQvwWxvPVh"
      },
      "outputs": [],
      "source": [
        "# model = load_model(\"model1_LSTM.h5\")"
      ]
    },
    {
      "cell_type": "code",
      "execution_count": null,
      "metadata": {
        "colab": {
          "base_uri": "https://localhost:8080/"
        },
        "id": "jcG5tJWGfEI2",
        "outputId": "d8c16969-9482-4673-ab31-73f8f1befbf8"
      },
      "outputs": [
        {
          "name": "stdout",
          "output_type": "stream",
          "text": [
            "15/15 [==============================] - 0s 11ms/step - loss: 0.2419 - accuracy: 0.9613\n"
          ]
        },
        {
          "data": {
            "text/plain": [
              "[0.24191151559352875, 0.9612902998924255]"
            ]
          },
          "execution_count": 51,
          "metadata": {},
          "output_type": "execute_result"
        }
      ],
      "source": [
        "model.evaluate(x1_test, y1_test)"
      ]
    },
    {
      "cell_type": "code",
      "execution_count": null,
      "metadata": {
        "id": "nMf7UgD-qx9V"
      },
      "outputs": [],
      "source": [
        "predict = model.predict(x1_test)\n",
        "y_pred = predict.round()\n",
        "y_true = y1_test"
      ]
    },
    {
      "cell_type": "code",
      "execution_count": null,
      "metadata": {
        "colab": {
          "base_uri": "https://localhost:8080/"
        },
        "id": "x4qj3PWCq4rW",
        "outputId": "e3c29859-f1df-4b32-a687-157bcb7e44eb"
      },
      "outputs": [
        {
          "name": "stdout",
          "output_type": "stream",
          "text": [
            "Confusion matrix:\n",
            " [[347   8]\n",
            " [ 10 100]]\n"
          ]
        }
      ],
      "source": [
        "matrix = confusion_matrix(y_true, y_pred)\n",
        "print(\"Confusion matrix:\\n\", matrix)"
      ]
    },
    {
      "cell_type": "markdown",
      "metadata": {
        "id": "VHTPhKgafe1L"
      },
      "source": [
        "## RNN"
      ]
    },
    {
      "cell_type": "code",
      "execution_count": null,
      "metadata": {
        "colab": {
          "base_uri": "https://localhost:8080/"
        },
        "id": "PIbZcajRfbl-",
        "outputId": "43993bf1-15e6-4df6-839e-a095a4a47ba4"
      },
      "outputs": [
        {
          "name": "stdout",
          "output_type": "stream",
          "text": [
            "Model: \"model1_RNN\"\n",
            "_________________________________________________________________\n",
            " Layer (type)                Output Shape              Param #   \n",
            "=================================================================\n",
            " embedding_1 (Embedding)     (None, 42, 128)           84224     \n",
            "                                                                 \n",
            " simple_rnn (SimpleRNN)      (None, 64)                12352     \n",
            "                                                                 \n",
            " batch_normalization_2 (Batc  (None, 64)               256       \n",
            " hNormalization)                                                 \n",
            "                                                                 \n",
            " dense_4 (Dense)             (None, 32)                2080      \n",
            "                                                                 \n",
            " dense_5 (Dense)             (None, 16)                528       \n",
            "                                                                 \n",
            " dense_6 (Dense)             (None, 8)                 136       \n",
            "                                                                 \n",
            " dropout_1 (Dropout)         (None, 8)                 0         \n",
            "                                                                 \n",
            " batch_normalization_3 (Batc  (None, 8)                32        \n",
            " hNormalization)                                                 \n",
            "                                                                 \n",
            " dense_7 (Dense)             (None, 1)                 9         \n",
            "                                                                 \n",
            "=================================================================\n",
            "Total params: 99,617\n",
            "Trainable params: 99,473\n",
            "Non-trainable params: 144\n",
            "_________________________________________________________________\n"
          ]
        }
      ],
      "source": [
        "############################# Create models ##############################\n",
        "\n",
        "# First create a model to classify need help or not\n",
        "model = Sequential(name=\"model1_RNN\")\n",
        "model.add(Embedding(voc.num_words, 128, input_length=MAX_LENGTH))\n",
        "model.add(SimpleRNN(64, return_sequences=False))\n",
        "model.add(BatchNormalization())\n",
        "model.add(Dense(32, activation='tanh'))\n",
        "model.add(Dense(16, activation='tanh'))\n",
        "model.add(Dense(8, activation='tanh'))\n",
        "model.add(Dropout(0.75))\n",
        "model.add(BatchNormalization())\n",
        "model.add(Dense(1, activation='sigmoid'))\n",
        "\n",
        "model.compile(loss='binary_crossentropy', optimizer='Adam', metrics=['accuracy'])\n",
        "\n",
        "model.summary()"
      ]
    },
    {
      "cell_type": "code",
      "execution_count": null,
      "metadata": {
        "colab": {
          "base_uri": "https://localhost:8080/"
        },
        "id": "L_P-ChjlfzBW",
        "outputId": "c66b8805-8e5f-4cdd-a369-427ef66ce351"
      },
      "outputs": [
        {
          "name": "stdout",
          "output_type": "stream",
          "text": [
            "Epoch 1/100\n",
            "8/8 [==============================] - 1s 40ms/step - loss: 0.6455 - accuracy: 0.8070 - val_loss: 0.3198 - val_accuracy: 0.9118\n",
            "Epoch 2/100\n",
            "8/8 [==============================] - 0s 36ms/step - loss: 0.6216 - accuracy: 0.8390 - val_loss: 0.3091 - val_accuracy: 0.9505\n",
            "Epoch 3/100\n",
            "8/8 [==============================] - 0s 38ms/step - loss: 0.6081 - accuracy: 0.8290 - val_loss: 0.3000 - val_accuracy: 0.9011\n",
            "Epoch 4/100\n",
            "8/8 [==============================] - 0s 35ms/step - loss: 0.5688 - accuracy: 0.8430 - val_loss: 0.2961 - val_accuracy: 0.8989\n",
            "Epoch 5/100\n",
            "8/8 [==============================] - 0s 36ms/step - loss: 0.5745 - accuracy: 0.8220 - val_loss: 0.2829 - val_accuracy: 0.9161\n",
            "Epoch 6/100\n",
            "8/8 [==============================] - 0s 37ms/step - loss: 0.5662 - accuracy: 0.8180 - val_loss: 0.2568 - val_accuracy: 0.9290\n",
            "Epoch 7/100\n",
            "8/8 [==============================] - 0s 36ms/step - loss: 0.5658 - accuracy: 0.8410 - val_loss: 0.2527 - val_accuracy: 0.9290\n",
            "Epoch 8/100\n",
            "8/8 [==============================] - 0s 35ms/step - loss: 0.5437 - accuracy: 0.8350 - val_loss: 0.2676 - val_accuracy: 0.9161\n",
            "Epoch 9/100\n",
            "8/8 [==============================] - 0s 37ms/step - loss: 0.5211 - accuracy: 0.8490 - val_loss: 0.3027 - val_accuracy: 0.9118\n",
            "Epoch 10/100\n",
            "8/8 [==============================] - 0s 36ms/step - loss: 0.5305 - accuracy: 0.8480 - val_loss: 0.2496 - val_accuracy: 0.9462\n",
            "Epoch 11/100\n",
            "8/8 [==============================] - 0s 35ms/step - loss: 0.5157 - accuracy: 0.8500 - val_loss: 0.3880 - val_accuracy: 0.8323\n",
            "Epoch 12/100\n",
            "8/8 [==============================] - 0s 39ms/step - loss: 0.4969 - accuracy: 0.8470 - val_loss: 0.2259 - val_accuracy: 0.9527\n",
            "Epoch 13/100\n",
            "8/8 [==============================] - 0s 39ms/step - loss: 0.4804 - accuracy: 0.8690 - val_loss: 0.3868 - val_accuracy: 0.8473\n",
            "Epoch 14/100\n",
            "8/8 [==============================] - 0s 37ms/step - loss: 0.4861 - accuracy: 0.8570 - val_loss: 0.3836 - val_accuracy: 0.8581\n",
            "Epoch 15/100\n",
            "7/8 [=========================>....] - ETA: 0s - loss: 0.4463 - accuracy: 0.8940Restoring model weights from the end of the best epoch: 12.\n",
            "8/8 [==============================] - 0s 38ms/step - loss: 0.4487 - accuracy: 0.8850 - val_loss: 0.3596 - val_accuracy: 0.8624\n",
            "Epoch 15: early stopping\n"
          ]
        },
        {
          "data": {
            "text/plain": [
              "<keras.callbacks.History at 0x7efc6fd49850>"
            ]
          },
          "execution_count": 60,
          "metadata": {},
          "output_type": "execute_result"
        }
      ],
      "source": [
        "model.fit(x1_train, y1_train, batch_size=128, epochs=100, class_weight=class_weight, callbacks=[early_stopping()], validation_data=(x1_test, y1_test))"
      ]
    },
    {
      "cell_type": "code",
      "execution_count": null,
      "metadata": {
        "id": "IFUHQuDrf8DB"
      },
      "outputs": [],
      "source": [
        "# model.save(\"model1_RNN.h5\")"
      ]
    },
    {
      "cell_type": "code",
      "execution_count": null,
      "metadata": {
        "id": "7rLSWHrAf8Al"
      },
      "outputs": [],
      "source": [
        "# model = load_model(\"model1_RNN.h5\")"
      ]
    },
    {
      "cell_type": "code",
      "execution_count": null,
      "metadata": {
        "colab": {
          "base_uri": "https://localhost:8080/"
        },
        "id": "eSyrLCM5f78d",
        "outputId": "3f4fc417-c9ed-4b7d-f2da-d39052d43208"
      },
      "outputs": [
        {
          "name": "stdout",
          "output_type": "stream",
          "text": [
            "15/15 [==============================] - 0s 5ms/step - loss: 0.2259 - accuracy: 0.9527\n"
          ]
        },
        {
          "data": {
            "text/plain": [
              "[0.22593475878238678, 0.9526881575584412]"
            ]
          },
          "execution_count": 63,
          "metadata": {},
          "output_type": "execute_result"
        }
      ],
      "source": [
        "model.evaluate(x1_test, y1_test)"
      ]
    },
    {
      "cell_type": "code",
      "execution_count": null,
      "metadata": {
        "id": "wvJY9_bIf7zt"
      },
      "outputs": [],
      "source": [
        "predict = model.predict(x1_test)\n",
        "y_pred = predict.round()\n",
        "y_true = y1_test"
      ]
    },
    {
      "cell_type": "code",
      "execution_count": null,
      "metadata": {
        "colab": {
          "base_uri": "https://localhost:8080/"
        },
        "id": "nCTKRjVlgSdN",
        "outputId": "5c6b482b-d91c-4668-fdb9-45f5e69ea5f2"
      },
      "outputs": [
        {
          "name": "stdout",
          "output_type": "stream",
          "text": [
            "Confusion matrix:\n",
            " [[350   5]\n",
            " [ 17  93]]\n"
          ]
        }
      ],
      "source": [
        "matrix = confusion_matrix(y_true, y_pred)\n",
        "print(\"Confusion matrix:\\n\", matrix)"
      ]
    },
    {
      "cell_type": "markdown",
      "metadata": {
        "id": "043g1x9fghcs"
      },
      "source": [
        "## GRU"
      ]
    },
    {
      "cell_type": "code",
      "execution_count": null,
      "metadata": {
        "colab": {
          "base_uri": "https://localhost:8080/"
        },
        "id": "VrDBHBllf7lD",
        "outputId": "6df71dff-687c-4b85-f3e7-9321877c1405"
      },
      "outputs": [
        {
          "name": "stdout",
          "output_type": "stream",
          "text": [
            "Model: \"model1_GRU\"\n",
            "_________________________________________________________________\n",
            " Layer (type)                Output Shape              Param #   \n",
            "=================================================================\n",
            " embedding_2 (Embedding)     (None, 42, 128)           84224     \n",
            "                                                                 \n",
            " gru (GRU)                   (None, 64)                37248     \n",
            "                                                                 \n",
            " batch_normalization_4 (Batc  (None, 64)               256       \n",
            " hNormalization)                                                 \n",
            "                                                                 \n",
            " dense_8 (Dense)             (None, 32)                2080      \n",
            "                                                                 \n",
            " dense_9 (Dense)             (None, 16)                528       \n",
            "                                                                 \n",
            " dense_10 (Dense)            (None, 8)                 136       \n",
            "                                                                 \n",
            " dropout_2 (Dropout)         (None, 8)                 0         \n",
            "                                                                 \n",
            " batch_normalization_5 (Batc  (None, 8)                32        \n",
            " hNormalization)                                                 \n",
            "                                                                 \n",
            " dense_11 (Dense)            (None, 1)                 9         \n",
            "                                                                 \n",
            "=================================================================\n",
            "Total params: 124,513\n",
            "Trainable params: 124,369\n",
            "Non-trainable params: 144\n",
            "_________________________________________________________________\n"
          ]
        }
      ],
      "source": [
        "############################# Create models ##############################\n",
        "\n",
        "# First create a model to classify need help or not\n",
        "model = Sequential(name=\"model1_GRU\")\n",
        "model.add(Embedding(voc.num_words, 128, input_length=MAX_LENGTH))\n",
        "model.add(GRU(64, return_sequences=False))\n",
        "model.add(BatchNormalization())\n",
        "model.add(Dense(32, activation='tanh'))\n",
        "model.add(Dense(16, activation='tanh'))\n",
        "model.add(Dense(8, activation='tanh'))\n",
        "model.add(Dropout(0.75))\n",
        "model.add(BatchNormalization())\n",
        "model.add(Dense(1, activation='sigmoid'))\n",
        "\n",
        "model.compile(loss='binary_crossentropy', optimizer='Adam', metrics=['accuracy'])\n",
        "\n",
        "model.summary()"
      ]
    },
    {
      "cell_type": "code",
      "execution_count": null,
      "metadata": {
        "colab": {
          "base_uri": "https://localhost:8080/"
        },
        "id": "3z-IbXHGgmPm",
        "outputId": "744a8e93-050e-48d5-93c3-9a7077c57153"
      },
      "outputs": [
        {
          "name": "stdout",
          "output_type": "stream",
          "text": [
            "Epoch 1/100\n",
            "8/8 [==============================] - 2s 89ms/step - loss: 0.6016 - accuracy: 0.8800 - val_loss: 0.5466 - val_accuracy: 0.9290\n",
            "Epoch 2/100\n",
            "8/8 [==============================] - 1s 86ms/step - loss: 0.5880 - accuracy: 0.8680 - val_loss: 0.5453 - val_accuracy: 0.8753\n",
            "Epoch 3/100\n",
            "8/8 [==============================] - 1s 84ms/step - loss: 0.5591 - accuracy: 0.8610 - val_loss: 0.5681 - val_accuracy: 0.8473\n",
            "Epoch 4/100\n",
            "8/8 [==============================] - 1s 84ms/step - loss: 0.5091 - accuracy: 0.8730 - val_loss: 0.7506 - val_accuracy: 0.3183\n",
            "Epoch 5/100\n",
            "8/8 [==============================] - ETA: 0s - loss: 0.5058 - accuracy: 0.8760Restoring model weights from the end of the best epoch: 2.\n",
            "8/8 [==============================] - 1s 86ms/step - loss: 0.5058 - accuracy: 0.8760 - val_loss: 0.6467 - val_accuracy: 0.4817\n",
            "Epoch 5: early stopping\n"
          ]
        },
        {
          "data": {
            "text/plain": [
              "<keras.callbacks.History at 0x7efc729b5b90>"
            ]
          },
          "execution_count": 79,
          "metadata": {},
          "output_type": "execute_result"
        }
      ],
      "source": [
        "model.fit(x1_train, y1_train, batch_size=128, epochs=100, class_weight=class_weight, callbacks=[early_stopping()], validation_data=(x1_test, y1_test))"
      ]
    },
    {
      "cell_type": "code",
      "execution_count": null,
      "metadata": {
        "id": "V1z9-g4DgqBj"
      },
      "outputs": [],
      "source": [
        "# model.save(\"model1_GRU.h5\")"
      ]
    },
    {
      "cell_type": "code",
      "execution_count": null,
      "metadata": {
        "id": "5FWapp5cgkyp"
      },
      "outputs": [],
      "source": [
        "# model = load_model(\"model1_GRU.h5\")"
      ]
    },
    {
      "cell_type": "code",
      "execution_count": null,
      "metadata": {
        "colab": {
          "base_uri": "https://localhost:8080/"
        },
        "id": "1TbBcZPjg0VK",
        "outputId": "40db1951-77a0-48e6-8ad4-a3160bacbdfc"
      },
      "outputs": [
        {
          "name": "stdout",
          "output_type": "stream",
          "text": [
            "15/15 [==============================] - 0s 9ms/step - loss: 0.5453 - accuracy: 0.8753\n"
          ]
        },
        {
          "data": {
            "text/plain": [
              "[0.5452933311462402, 0.875268816947937]"
            ]
          },
          "execution_count": 80,
          "metadata": {},
          "output_type": "execute_result"
        }
      ],
      "source": [
        "model.evaluate(x1_test, y1_test)"
      ]
    },
    {
      "cell_type": "code",
      "execution_count": null,
      "metadata": {
        "id": "y4iKMS7Ng4IV"
      },
      "outputs": [],
      "source": [
        "predict = model.predict(x1_test)\n",
        "y_pred = predict.round()\n",
        "y_true = y1_test"
      ]
    },
    {
      "cell_type": "code",
      "execution_count": null,
      "metadata": {
        "colab": {
          "base_uri": "https://localhost:8080/"
        },
        "id": "0Sm632Rng4Q5",
        "outputId": "5474c522-9edd-4d33-8fbd-a96fbfebb02a"
      },
      "outputs": [
        {
          "name": "stdout",
          "output_type": "stream",
          "text": [
            "Confusion matrix:\n",
            " [[307  48]\n",
            " [ 10 100]]\n"
          ]
        }
      ],
      "source": [
        "matrix = confusion_matrix(y_true, y_pred)\n",
        "print(\"Confusion matrix:\\n\", matrix)"
      ]
    },
    {
      "cell_type": "markdown",
      "metadata": {
        "id": "uLpWEovek3m5"
      },
      "source": [
        "## CNN"
      ]
    },
    {
      "cell_type": "code",
      "execution_count": null,
      "metadata": {
        "colab": {
          "base_uri": "https://localhost:8080/"
        },
        "id": "qdNgikzak6Qz",
        "outputId": "029b35fe-7481-4ff6-aed7-4ad27b079d80"
      },
      "outputs": [
        {
          "name": "stdout",
          "output_type": "stream",
          "text": [
            "Model: \"model1_CNN\"\n",
            "_________________________________________________________________\n",
            " Layer (type)                Output Shape              Param #   \n",
            "=================================================================\n",
            " embedding_5 (Embedding)     (None, 42, 128)           84224     \n",
            "                                                                 \n",
            " conv1d_8 (Conv1D)           (None, 40, 64)            24640     \n",
            "                                                                 \n",
            " max_pooling1d_6 (MaxPooling  (None, 20, 64)           0         \n",
            " 1D)                                                             \n",
            "                                                                 \n",
            " conv1d_9 (Conv1D)           (None, 18, 64)            12352     \n",
            "                                                                 \n",
            " max_pooling1d_7 (MaxPooling  (None, 9, 64)            0         \n",
            " 1D)                                                             \n",
            "                                                                 \n",
            " conv1d_10 (Conv1D)          (None, 7, 128)            24704     \n",
            "                                                                 \n",
            " max_pooling1d_8 (MaxPooling  (None, 3, 128)           0         \n",
            " 1D)                                                             \n",
            "                                                                 \n",
            " conv1d_11 (Conv1D)          (None, 1, 128)            49280     \n",
            "                                                                 \n",
            " flatten_2 (Flatten)         (None, 128)               0         \n",
            "                                                                 \n",
            " batch_normalization_10 (Bat  (None, 128)              512       \n",
            " chNormalization)                                                \n",
            "                                                                 \n",
            " dense_20 (Dense)            (None, 32)                4128      \n",
            "                                                                 \n",
            " dense_21 (Dense)            (None, 16)                528       \n",
            "                                                                 \n",
            " dense_22 (Dense)            (None, 8)                 136       \n",
            "                                                                 \n",
            " dropout_5 (Dropout)         (None, 8)                 0         \n",
            "                                                                 \n",
            " batch_normalization_11 (Bat  (None, 8)                32        \n",
            " chNormalization)                                                \n",
            "                                                                 \n",
            " dense_23 (Dense)            (None, 1)                 9         \n",
            "                                                                 \n",
            "=================================================================\n",
            "Total params: 200,545\n",
            "Trainable params: 200,273\n",
            "Non-trainable params: 272\n",
            "_________________________________________________________________\n"
          ]
        }
      ],
      "source": [
        "############################# Create models ##############################\n",
        "\n",
        "# First create a model to classify need help or not\n",
        "model = Sequential(name=\"model1_CNN\")\n",
        "model.add(Embedding(voc.num_words, 128, input_length=MAX_LENGTH))\n",
        "model.add(Conv1D(64, kernel_size=3))\n",
        "model.add(MaxPooling1D())\n",
        "model.add(Conv1D(64, kernel_size=3))\n",
        "model.add(MaxPooling1D())\n",
        "model.add(Conv1D(128, kernel_size=3))\n",
        "model.add(MaxPooling1D())\n",
        "model.add(Conv1D(128, kernel_size=3))\n",
        "model.add(Flatten())\n",
        "model.add(BatchNormalization())\n",
        "model.add(Dense(32, activation='tanh'))\n",
        "model.add(Dense(16, activation='tanh'))\n",
        "model.add(Dense(8, activation='tanh'))\n",
        "model.add(Dropout(0.75))\n",
        "model.add(BatchNormalization())\n",
        "model.add(Dense(1, activation='sigmoid'))\n",
        "\n",
        "model.compile(loss='binary_crossentropy', optimizer='Adam', metrics=['accuracy'])\n",
        "\n",
        "model.summary()"
      ]
    },
    {
      "cell_type": "code",
      "execution_count": null,
      "metadata": {
        "colab": {
          "base_uri": "https://localhost:8080/"
        },
        "id": "j3D05A4fmGL2",
        "outputId": "59f31e32-1dca-46f7-d362-50cea02855ed"
      },
      "outputs": [
        {
          "name": "stdout",
          "output_type": "stream",
          "text": [
            "Epoch 1/100\n",
            "8/8 [==============================] - 1s 57ms/step - loss: 0.5087 - accuracy: 0.8820 - val_loss: 0.4341 - val_accuracy: 0.9548\n",
            "Epoch 2/100\n",
            "8/8 [==============================] - 0s 50ms/step - loss: 0.5147 - accuracy: 0.8730 - val_loss: 0.4370 - val_accuracy: 0.9548\n",
            "Epoch 3/100\n",
            "8/8 [==============================] - 0s 52ms/step - loss: 0.5125 - accuracy: 0.8700 - val_loss: 0.4026 - val_accuracy: 0.9527\n",
            "Epoch 4/100\n",
            "8/8 [==============================] - 0s 53ms/step - loss: 0.4808 - accuracy: 0.8760 - val_loss: 0.4036 - val_accuracy: 0.9527\n",
            "Epoch 5/100\n",
            "8/8 [==============================] - 0s 51ms/step - loss: 0.4464 - accuracy: 0.8790 - val_loss: 0.4279 - val_accuracy: 0.9376\n",
            "Epoch 6/100\n",
            "8/8 [==============================] - ETA: 0s - loss: 0.4310 - accuracy: 0.8870Restoring model weights from the end of the best epoch: 3.\n",
            "8/8 [==============================] - 0s 54ms/step - loss: 0.4310 - accuracy: 0.8870 - val_loss: 0.4353 - val_accuracy: 0.9355\n",
            "Epoch 6: early stopping\n"
          ]
        },
        {
          "data": {
            "text/plain": [
              "<keras.callbacks.History at 0x7efc66da33d0>"
            ]
          },
          "execution_count": 100,
          "metadata": {},
          "output_type": "execute_result"
        }
      ],
      "source": [
        "model.fit(x1_train, y1_train, batch_size=128, epochs=100, class_weight=class_weight, callbacks=[early_stopping()], validation_data=(x1_test, y1_test))"
      ]
    },
    {
      "cell_type": "code",
      "execution_count": null,
      "metadata": {
        "id": "ALQNCYhimIgo"
      },
      "outputs": [],
      "source": [
        "# model.save(\"model1_CNN.h5\")"
      ]
    },
    {
      "cell_type": "code",
      "execution_count": null,
      "metadata": {
        "id": "37NimhAwmKDj"
      },
      "outputs": [],
      "source": [
        "# model = load_model(\"model1_CNN.h5\")"
      ]
    },
    {
      "cell_type": "code",
      "execution_count": null,
      "metadata": {
        "colab": {
          "base_uri": "https://localhost:8080/"
        },
        "id": "SFe9zff4mQm0",
        "outputId": "29b6222b-bb55-4744-8a75-4671c9861bdd"
      },
      "outputs": [
        {
          "name": "stdout",
          "output_type": "stream",
          "text": [
            "15/15 [==============================] - 0s 5ms/step - loss: 0.4026 - accuracy: 0.9527\n"
          ]
        },
        {
          "data": {
            "text/plain": [
              "[0.4025914967060089, 0.9526881575584412]"
            ]
          },
          "execution_count": 103,
          "metadata": {},
          "output_type": "execute_result"
        }
      ],
      "source": [
        "model.evaluate(x1_test, y1_test)"
      ]
    },
    {
      "cell_type": "code",
      "execution_count": null,
      "metadata": {
        "id": "82jAiNO3mXj6"
      },
      "outputs": [],
      "source": [
        "predict = model.predict(x1_test)\n",
        "y_pred = predict.round()\n",
        "y_true = y1_test"
      ]
    },
    {
      "cell_type": "code",
      "execution_count": null,
      "metadata": {
        "colab": {
          "base_uri": "https://localhost:8080/"
        },
        "id": "unQ8JkGqmX7y",
        "outputId": "76f55795-1920-4a19-c720-734b68498360"
      },
      "outputs": [
        {
          "name": "stdout",
          "output_type": "stream",
          "text": [
            "Confusion matrix:\n",
            " [[344  11]\n",
            " [ 11  99]]\n"
          ]
        }
      ],
      "source": [
        "matrix = confusion_matrix(y_true, y_pred)\n",
        "print(\"Confusion matrix:\\n\", matrix)"
      ]
    },
    {
      "cell_type": "markdown",
      "metadata": {
        "id": "7FFwX1lEmu66"
      },
      "source": [
        "## MLP"
      ]
    },
    {
      "cell_type": "code",
      "execution_count": null,
      "metadata": {
        "colab": {
          "base_uri": "https://localhost:8080/"
        },
        "id": "-Kfx1CPhmxOh",
        "outputId": "500bed65-02f9-40b4-d84c-28266131eb3f"
      },
      "outputs": [
        {
          "name": "stdout",
          "output_type": "stream",
          "text": [
            "Model: \"model1_MLP\"\n",
            "_________________________________________________________________\n",
            " Layer (type)                Output Shape              Param #   \n",
            "=================================================================\n",
            " embedding_6 (Embedding)     (None, 42, 128)           84224     \n",
            "                                                                 \n",
            " flatten_3 (Flatten)         (None, 5376)              0         \n",
            "                                                                 \n",
            " batch_normalization_12 (Bat  (None, 5376)             21504     \n",
            " chNormalization)                                                \n",
            "                                                                 \n",
            " dense_24 (Dense)            (None, 32)                172064    \n",
            "                                                                 \n",
            " dense_25 (Dense)            (None, 16)                528       \n",
            "                                                                 \n",
            " dense_26 (Dense)            (None, 8)                 136       \n",
            "                                                                 \n",
            " dropout_6 (Dropout)         (None, 8)                 0         \n",
            "                                                                 \n",
            " batch_normalization_13 (Bat  (None, 8)                32        \n",
            " chNormalization)                                                \n",
            "                                                                 \n",
            " dense_27 (Dense)            (None, 1)                 9         \n",
            "                                                                 \n",
            "=================================================================\n",
            "Total params: 278,497\n",
            "Trainable params: 267,729\n",
            "Non-trainable params: 10,768\n",
            "_________________________________________________________________\n"
          ]
        }
      ],
      "source": [
        "############################# Create models ##############################\n",
        "\n",
        "# First create a model to classify need help or not\n",
        "model = Sequential(name=\"model1_MLP\")\n",
        "model.add(Embedding(voc.num_words, 128, input_length=MAX_LENGTH))\n",
        "model.add(Flatten())\n",
        "model.add(BatchNormalization())\n",
        "model.add(Dense(32, activation='tanh'))\n",
        "model.add(Dense(16, activation='tanh'))\n",
        "model.add(Dense(8, activation='tanh'))\n",
        "model.add(Dropout(0.75))\n",
        "model.add(BatchNormalization())\n",
        "model.add(Dense(1, activation='sigmoid'))\n",
        "\n",
        "model.compile(loss='binary_crossentropy', optimizer='Adam', metrics=['accuracy'])\n",
        "\n",
        "model.summary()"
      ]
    },
    {
      "cell_type": "code",
      "execution_count": null,
      "metadata": {
        "colab": {
          "base_uri": "https://localhost:8080/"
        },
        "id": "BCd4aofsm5Vy",
        "outputId": "37f411ea-3372-4c19-c820-e512a1de7067"
      },
      "outputs": [
        {
          "name": "stdout",
          "output_type": "stream",
          "text": [
            "Epoch 1/100\n",
            "8/8 [==============================] - 3s 48ms/step - loss: 1.3522 - accuracy: 0.5430 - val_loss: 0.4826 - val_accuracy: 0.7978\n",
            "Epoch 2/100\n",
            "8/8 [==============================] - 0s 23ms/step - loss: 1.0264 - accuracy: 0.6360 - val_loss: 0.4625 - val_accuracy: 0.7978\n",
            "Epoch 3/100\n",
            "8/8 [==============================] - 0s 24ms/step - loss: 0.9179 - accuracy: 0.6800 - val_loss: 0.4484 - val_accuracy: 0.7978\n",
            "Epoch 4/100\n",
            "8/8 [==============================] - 0s 24ms/step - loss: 0.8142 - accuracy: 0.7170 - val_loss: 0.4349 - val_accuracy: 0.8172\n",
            "Epoch 5/100\n",
            "8/8 [==============================] - 0s 24ms/step - loss: 0.7502 - accuracy: 0.7440 - val_loss: 0.4236 - val_accuracy: 0.8172\n",
            "Epoch 6/100\n",
            "8/8 [==============================] - 0s 24ms/step - loss: 0.7241 - accuracy: 0.7530 - val_loss: 0.4154 - val_accuracy: 0.8172\n",
            "Epoch 7/100\n",
            "8/8 [==============================] - 0s 23ms/step - loss: 0.6757 - accuracy: 0.7760 - val_loss: 0.4123 - val_accuracy: 0.8172\n",
            "Epoch 8/100\n",
            "8/8 [==============================] - 0s 23ms/step - loss: 0.6555 - accuracy: 0.7890 - val_loss: 0.4107 - val_accuracy: 0.8172\n",
            "Epoch 9/100\n",
            "8/8 [==============================] - 0s 25ms/step - loss: 0.6358 - accuracy: 0.7710 - val_loss: 0.4060 - val_accuracy: 0.8280\n",
            "Epoch 10/100\n",
            "8/8 [==============================] - 0s 23ms/step - loss: 0.6430 - accuracy: 0.8000 - val_loss: 0.4005 - val_accuracy: 0.8280\n",
            "Epoch 11/100\n",
            "8/8 [==============================] - 0s 25ms/step - loss: 0.6050 - accuracy: 0.7990 - val_loss: 0.3965 - val_accuracy: 0.8280\n",
            "Epoch 12/100\n",
            "8/8 [==============================] - 0s 25ms/step - loss: 0.5776 - accuracy: 0.8060 - val_loss: 0.3934 - val_accuracy: 0.8280\n",
            "Epoch 13/100\n",
            "8/8 [==============================] - 0s 23ms/step - loss: 0.5722 - accuracy: 0.8180 - val_loss: 0.3856 - val_accuracy: 0.8581\n",
            "Epoch 14/100\n",
            "8/8 [==============================] - 0s 25ms/step - loss: 0.5708 - accuracy: 0.8250 - val_loss: 0.3792 - val_accuracy: 0.8624\n",
            "Epoch 15/100\n",
            "8/8 [==============================] - 0s 24ms/step - loss: 0.5530 - accuracy: 0.8250 - val_loss: 0.3704 - val_accuracy: 0.8624\n",
            "Epoch 16/100\n",
            "8/8 [==============================] - 0s 25ms/step - loss: 0.5589 - accuracy: 0.8040 - val_loss: 0.3619 - val_accuracy: 0.8624\n",
            "Epoch 17/100\n",
            "8/8 [==============================] - 0s 25ms/step - loss: 0.5464 - accuracy: 0.8290 - val_loss: 0.3556 - val_accuracy: 0.8624\n",
            "Epoch 18/100\n",
            "8/8 [==============================] - 0s 23ms/step - loss: 0.5453 - accuracy: 0.8160 - val_loss: 0.3455 - val_accuracy: 0.8989\n",
            "Epoch 19/100\n",
            "8/8 [==============================] - 0s 24ms/step - loss: 0.5431 - accuracy: 0.8260 - val_loss: 0.3343 - val_accuracy: 0.9054\n",
            "Epoch 20/100\n",
            "8/8 [==============================] - 0s 25ms/step - loss: 0.4867 - accuracy: 0.8530 - val_loss: 0.3252 - val_accuracy: 0.9075\n",
            "Epoch 21/100\n",
            "8/8 [==============================] - 0s 26ms/step - loss: 0.4685 - accuracy: 0.8450 - val_loss: 0.3183 - val_accuracy: 0.9161\n",
            "Epoch 22/100\n",
            "8/8 [==============================] - 0s 24ms/step - loss: 0.4722 - accuracy: 0.8530 - val_loss: 0.3130 - val_accuracy: 0.9183\n",
            "Epoch 23/100\n",
            "8/8 [==============================] - 0s 23ms/step - loss: 0.4652 - accuracy: 0.8560 - val_loss: 0.3099 - val_accuracy: 0.9398\n",
            "Epoch 24/100\n",
            "8/8 [==============================] - 0s 25ms/step - loss: 0.4884 - accuracy: 0.8370 - val_loss: 0.3079 - val_accuracy: 0.9398\n",
            "Epoch 25/100\n",
            "8/8 [==============================] - 0s 23ms/step - loss: 0.4553 - accuracy: 0.8570 - val_loss: 0.3026 - val_accuracy: 0.9398\n",
            "Epoch 26/100\n",
            "8/8 [==============================] - 0s 24ms/step - loss: 0.4476 - accuracy: 0.8630 - val_loss: 0.2880 - val_accuracy: 0.9398\n",
            "Epoch 27/100\n",
            "8/8 [==============================] - 0s 22ms/step - loss: 0.4335 - accuracy: 0.8560 - val_loss: 0.2809 - val_accuracy: 0.9398\n",
            "Epoch 28/100\n",
            "8/8 [==============================] - 0s 22ms/step - loss: 0.4184 - accuracy: 0.8730 - val_loss: 0.2776 - val_accuracy: 0.9398\n",
            "Epoch 29/100\n",
            "8/8 [==============================] - 0s 23ms/step - loss: 0.4039 - accuracy: 0.8960 - val_loss: 0.2738 - val_accuracy: 0.9398\n",
            "Epoch 30/100\n",
            "8/8 [==============================] - 0s 22ms/step - loss: 0.4420 - accuracy: 0.8510 - val_loss: 0.2645 - val_accuracy: 0.9398\n",
            "Epoch 31/100\n",
            "8/8 [==============================] - 0s 22ms/step - loss: 0.4406 - accuracy: 0.8770 - val_loss: 0.2531 - val_accuracy: 0.9398\n",
            "Epoch 32/100\n",
            "8/8 [==============================] - 0s 25ms/step - loss: 0.4367 - accuracy: 0.8810 - val_loss: 0.2472 - val_accuracy: 0.9419\n",
            "Epoch 33/100\n",
            "8/8 [==============================] - 0s 23ms/step - loss: 0.3774 - accuracy: 0.8990 - val_loss: 0.2458 - val_accuracy: 0.9419\n",
            "Epoch 34/100\n",
            "8/8 [==============================] - 0s 25ms/step - loss: 0.4100 - accuracy: 0.8890 - val_loss: 0.2414 - val_accuracy: 0.9419\n",
            "Epoch 35/100\n",
            "8/8 [==============================] - 0s 23ms/step - loss: 0.4094 - accuracy: 0.8850 - val_loss: 0.2367 - val_accuracy: 0.9419\n",
            "Epoch 36/100\n",
            "8/8 [==============================] - 0s 23ms/step - loss: 0.3960 - accuracy: 0.9030 - val_loss: 0.2307 - val_accuracy: 0.9419\n",
            "Epoch 37/100\n",
            "8/8 [==============================] - 0s 23ms/step - loss: 0.3835 - accuracy: 0.8790 - val_loss: 0.2269 - val_accuracy: 0.9419\n",
            "Epoch 38/100\n",
            "8/8 [==============================] - 0s 23ms/step - loss: 0.3700 - accuracy: 0.8990 - val_loss: 0.2210 - val_accuracy: 0.9419\n",
            "Epoch 39/100\n",
            "8/8 [==============================] - 0s 23ms/step - loss: 0.3735 - accuracy: 0.8840 - val_loss: 0.2204 - val_accuracy: 0.9462\n",
            "Epoch 40/100\n",
            "8/8 [==============================] - 0s 23ms/step - loss: 0.3580 - accuracy: 0.8940 - val_loss: 0.2193 - val_accuracy: 0.9462\n",
            "Epoch 41/100\n",
            "8/8 [==============================] - 0s 23ms/step - loss: 0.3661 - accuracy: 0.8840 - val_loss: 0.2156 - val_accuracy: 0.9484\n",
            "Epoch 42/100\n",
            "8/8 [==============================] - 0s 23ms/step - loss: 0.3637 - accuracy: 0.8860 - val_loss: 0.2101 - val_accuracy: 0.9505\n",
            "Epoch 43/100\n",
            "8/8 [==============================] - 0s 26ms/step - loss: 0.3923 - accuracy: 0.9010 - val_loss: 0.2066 - val_accuracy: 0.9548\n",
            "Epoch 44/100\n",
            "8/8 [==============================] - 0s 24ms/step - loss: 0.3531 - accuracy: 0.9140 - val_loss: 0.2020 - val_accuracy: 0.9548\n",
            "Epoch 45/100\n",
            "8/8 [==============================] - 0s 24ms/step - loss: 0.3471 - accuracy: 0.9150 - val_loss: 0.1969 - val_accuracy: 0.9527\n",
            "Epoch 46/100\n",
            "8/8 [==============================] - 0s 22ms/step - loss: 0.3791 - accuracy: 0.8800 - val_loss: 0.1934 - val_accuracy: 0.9548\n",
            "Epoch 47/100\n",
            "8/8 [==============================] - 0s 26ms/step - loss: 0.3587 - accuracy: 0.9070 - val_loss: 0.1888 - val_accuracy: 0.9527\n",
            "Epoch 48/100\n",
            "8/8 [==============================] - 0s 26ms/step - loss: 0.3620 - accuracy: 0.9130 - val_loss: 0.1846 - val_accuracy: 0.9548\n",
            "Epoch 49/100\n",
            "8/8 [==============================] - 0s 22ms/step - loss: 0.3602 - accuracy: 0.8990 - val_loss: 0.1816 - val_accuracy: 0.9570\n",
            "Epoch 50/100\n",
            "8/8 [==============================] - 0s 23ms/step - loss: 0.3541 - accuracy: 0.9000 - val_loss: 0.1832 - val_accuracy: 0.9591\n",
            "Epoch 51/100\n",
            "8/8 [==============================] - 0s 23ms/step - loss: 0.3745 - accuracy: 0.9010 - val_loss: 0.1855 - val_accuracy: 0.9505\n",
            "Epoch 52/100\n",
            "7/8 [=========================>....] - ETA: 0s - loss: 0.3363 - accuracy: 0.9018Restoring model weights from the end of the best epoch: 49.\n",
            "8/8 [==============================] - 0s 25ms/step - loss: 0.3584 - accuracy: 0.8990 - val_loss: 0.1905 - val_accuracy: 0.9484\n",
            "Epoch 52: early stopping\n"
          ]
        },
        {
          "data": {
            "text/plain": [
              "<keras.callbacks.History at 0x7efc66bdae50>"
            ]
          },
          "execution_count": 107,
          "metadata": {},
          "output_type": "execute_result"
        }
      ],
      "source": [
        "model.fit(x1_train, y1_train, batch_size=128, epochs=100, class_weight=class_weight, callbacks=[early_stopping()], validation_data=(x1_test, y1_test))"
      ]
    },
    {
      "cell_type": "code",
      "execution_count": null,
      "metadata": {
        "id": "yOLcXXbjm5rd"
      },
      "outputs": [],
      "source": [
        "# model.save(\"model1_MLP.h5\")"
      ]
    },
    {
      "cell_type": "code",
      "execution_count": null,
      "metadata": {
        "id": "229z5CXvm-SO"
      },
      "outputs": [],
      "source": [
        "# model = load_model(\"model1_MLP.h5\")"
      ]
    },
    {
      "cell_type": "code",
      "execution_count": null,
      "metadata": {
        "colab": {
          "base_uri": "https://localhost:8080/"
        },
        "id": "hi2CzxABnEzT",
        "outputId": "26d0dcf8-fde6-4b88-d839-565f7eedcfb3"
      },
      "outputs": [
        {
          "name": "stdout",
          "output_type": "stream",
          "text": [
            "15/15 [==============================] - 0s 3ms/step - loss: 0.1816 - accuracy: 0.9570\n"
          ]
        },
        {
          "data": {
            "text/plain": [
              "[0.1816110610961914, 0.9569892287254333]"
            ]
          },
          "execution_count": 108,
          "metadata": {},
          "output_type": "execute_result"
        }
      ],
      "source": [
        "model.evaluate(x1_test, y1_test)"
      ]
    },
    {
      "cell_type": "code",
      "execution_count": null,
      "metadata": {
        "id": "NiunRoSLnFQv"
      },
      "outputs": [],
      "source": [
        "predict = model.predict(x1_test)\n",
        "y_pred = predict.round()\n",
        "y_true = y1_test"
      ]
    },
    {
      "cell_type": "code",
      "execution_count": null,
      "metadata": {
        "colab": {
          "base_uri": "https://localhost:8080/"
        },
        "id": "HMkQF16SnHbv",
        "outputId": "438c5fa2-6308-4c16-c363-0e2b504c9948"
      },
      "outputs": [
        {
          "name": "stdout",
          "output_type": "stream",
          "text": [
            "Confusion matrix:\n",
            " [[352   3]\n",
            " [ 17  93]]\n"
          ]
        }
      ],
      "source": [
        "matrix = confusion_matrix(y_true, y_pred)\n",
        "print(\"Confusion matrix:\\n\", matrix)"
      ]
    },
    {
      "cell_type": "markdown",
      "metadata": {
        "id": "r8jiVBWBBz9c"
      },
      "source": [
        "## Bert"
      ]
    },
    {
      "cell_type": "code",
      "execution_count": null,
      "metadata": {
        "colab": {
          "base_uri": "https://localhost:8080/"
        },
        "id": "QyXGZS8sDMFR",
        "outputId": "d2b3ae82-bbdf-4ff6-a5aa-309ca327f307"
      },
      "outputs": [
        {
          "name": "stdout",
          "output_type": "stream",
          "text": [
            "\u001b[K     |████████████████████████████████| 4.9 MB 5.6 MB/s \n",
            "\u001b[K     |████████████████████████████████| 462 kB 72.7 MB/s \n",
            "\u001b[?25h"
          ]
        }
      ],
      "source": [
        "!pip install -q -U \"tensorflow-text==2.8.*\""
      ]
    },
    {
      "cell_type": "code",
      "execution_count": null,
      "metadata": {
        "id": "NUAoPVRFB1ze"
      },
      "outputs": [],
      "source": [
        "import tensorflow_hub as hub\n",
        "import tensorflow_text as text  # A dependency of the preprocessing model\n",
        "\n",
        "bert_preprocess = hub.KerasLayer(\"https://tfhub.dev/tensorflow/bert_en_uncased_preprocess/3\")\n",
        "bert_encoder = hub.KerasLayer(\"https://tfhub.dev/tensorflow/bert_en_uncased_L-12_H-768_A-12/4\",trainable=False)"
      ]
    },
    {
      "cell_type": "code",
      "execution_count": null,
      "metadata": {
        "id": "O_Kn2G0mCPmm"
      },
      "outputs": [],
      "source": [
        "# model = Sequential()\n",
        "# model.add(Dense(64))\n",
        "# model.add(Dense(32))\n",
        "# model.add(Dense(1))\n",
        "\n",
        "\n",
        "# input = Input()\n",
        "# layer1 = Dense(64)(input)\n",
        "# layer2 = Dense(32)(layer1)\n",
        "# output = Dense(1)(layer2)\n",
        "\n",
        "# model = Model(inputs=input, outputs=output)"
      ]
    },
    {
      "cell_type": "code",
      "execution_count": null,
      "metadata": {
        "colab": {
          "base_uri": "https://localhost:8080/"
        },
        "id": "WT2vWOEF8mM8",
        "outputId": "b77e973d-19a6-4c4f-f688-39981ef30643"
      },
      "outputs": [
        {
          "name": "stdout",
          "output_type": "stream",
          "text": [
            "Model: \"model1_Bert\"\n",
            "__________________________________________________________________________________________________\n",
            " Layer (type)                   Output Shape         Param #     Connected to                     \n",
            "==================================================================================================\n",
            " text (InputLayer)              [(None,)]            0           []                               \n",
            "                                                                                                  \n",
            " keras_layer (KerasLayer)       {'input_type_ids':   0           ['text[0][0]']                   \n",
            "                                (None, 128),                                                      \n",
            "                                 'input_word_ids':                                                \n",
            "                                (None, 128),                                                      \n",
            "                                 'input_mask': (Non                                               \n",
            "                                e, 128)}                                                          \n",
            "                                                                                                  \n",
            " keras_layer_1 (KerasLayer)     {'default': (None,   109482241   ['keras_layer[0][0]',            \n",
            "                                768),                             'keras_layer[0][1]',            \n",
            "                                 'sequence_output':               'keras_layer[0][2]']            \n",
            "                                 (None, 128, 768),                                                \n",
            "                                 'pooled_output': (                                               \n",
            "                                None, 768),                                                       \n",
            "                                 'encoder_outputs':                                               \n",
            "                                 [(None, 128, 768),                                               \n",
            "                                 (None, 128, 768),                                                \n",
            "                                 (None, 128, 768),                                                \n",
            "                                 (None, 128, 768),                                                \n",
            "                                 (None, 128, 768),                                                \n",
            "                                 (None, 128, 768),                                                \n",
            "                                 (None, 128, 768),                                                \n",
            "                                 (None, 128, 768),                                                \n",
            "                                 (None, 128, 768),                                                \n",
            "                                 (None, 128, 768),                                                \n",
            "                                 (None, 128, 768),                                                \n",
            "                                 (None, 128, 768)]}                                               \n",
            "                                                                                                  \n",
            " lstm_1 (LSTM)                  (None, 64)           213248      ['keras_layer_1[0][14]']         \n",
            "                                                                                                  \n",
            " dense_28 (Dense)               (None, 16)           1040        ['lstm_1[0][0]']                 \n",
            "                                                                                                  \n",
            " dense_29 (Dense)               (None, 8)            136         ['dense_28[0][0]']               \n",
            "                                                                                                  \n",
            " dense_30 (Dense)               (None, 1)            9           ['dense_29[0][0]']               \n",
            "                                                                                                  \n",
            "==================================================================================================\n",
            "Total params: 109,696,674\n",
            "Trainable params: 214,433\n",
            "Non-trainable params: 109,482,241\n",
            "__________________________________________________________________________________________________\n"
          ]
        }
      ],
      "source": [
        "import tensorflow as tf\n",
        "\n",
        "\n",
        "text_input = Input(shape=(), dtype=tf.string, name='text')\n",
        "preprocessed_text = bert_preprocess(text_input)\n",
        "outputs = bert_encoder(preprocessed_text)\n",
        "\n",
        "\n",
        "y = LSTM(64)(outputs['sequence_output'])\n",
        "y = Dense(16, activation='tanh')(y)\n",
        "y = Dense(8, activation='tanh')(y)\n",
        "y = Dense(1, activation='sigmoid')(y)\n",
        "\n",
        "\n",
        "model = Model(inputs=[text_input], outputs = [y], name=\"model1_Bert\")\n",
        "\n",
        "model.compile(loss='binary_crossentropy', optimizer='Adam', metrics=['accuracy'])\n",
        "\n",
        "model.summary()"
      ]
    },
    {
      "cell_type": "code",
      "execution_count": null,
      "metadata": {
        "colab": {
          "background_save": true,
          "base_uri": "https://localhost:8080/"
        },
        "id": "STVpNgHHS3gQ",
        "outputId": "e95a9fe5-59fe-410f-cf5b-904c24a33354"
      },
      "outputs": [
        {
          "name": "stdout",
          "output_type": "stream",
          "text": [
            "Epoch 1/100\n",
            "16/16 [==============================] - 647s 41s/step - loss: 1.0354 - accuracy: 0.5830 - val_loss: 0.4736 - val_accuracy: 0.7978\n",
            "Epoch 2/100\n",
            "16/16 [==============================] - 621s 40s/step - loss: 0.6925 - accuracy: 0.8080 - val_loss: 0.6583 - val_accuracy: 0.6215\n",
            "Epoch 3/100\n",
            "16/16 [==============================] - 621s 40s/step - loss: 0.5595 - accuracy: 0.8230 - val_loss: 0.2854 - val_accuracy: 0.8925\n",
            "Epoch 4/100\n",
            "16/16 [==============================] - 609s 39s/step - loss: 0.5970 - accuracy: 0.8390 - val_loss: 0.3358 - val_accuracy: 0.8581\n",
            "Epoch 5/100\n",
            "16/16 [==============================] - 609s 39s/step - loss: 0.4155 - accuracy: 0.8810 - val_loss: 0.2604 - val_accuracy: 0.9097\n",
            "Epoch 6/100\n",
            "16/16 [==============================] - ETA: 0s - loss: 0.3555 - accuracy: 0.9180 "
          ]
        }
      ],
      "source": [
        "model.fit(train_texts,y1_train, batch_size=64, epochs=100, class_weight=class_weight, callbacks=[early_stopping()], validation_data=(test_texts, y1_test))"
      ]
    },
    {
      "cell_type": "code",
      "execution_count": null,
      "metadata": {
        "id": "gXzAQM2XMn3a"
      },
      "outputs": [],
      "source": [
        "# model.save(\"model1_Bert.h5\")"
      ]
    },
    {
      "cell_type": "code",
      "execution_count": null,
      "metadata": {
        "id": "DyEaH4ruMrxg"
      },
      "outputs": [],
      "source": [
        "# model = load_model(\"model1_Bert.h5\")"
      ]
    },
    {
      "cell_type": "code",
      "execution_count": null,
      "metadata": {
        "id": "RRTOxBzJMvkh"
      },
      "outputs": [],
      "source": [
        "model.evaluate(test_texts, y1_test)"
      ]
    },
    {
      "cell_type": "code",
      "execution_count": null,
      "metadata": {
        "id": "VdkrcV8DM9DA"
      },
      "outputs": [],
      "source": [
        "predict = model.predict(test_texts)\n",
        "y_pred = predict.round()\n",
        "y_true = y1_test"
      ]
    },
    {
      "cell_type": "code",
      "execution_count": null,
      "metadata": {
        "id": "tff6QCZlNDUh"
      },
      "outputs": [],
      "source": [
        "matrix = confusion_matrix(y_true, y_pred)\n",
        "print(\"Confusion matrix:\\n\", matrix)"
      ]
    },
    {
      "cell_type": "markdown",
      "metadata": {
        "id": "ivwuZIrKipSd"
      },
      "source": [
        "# Model 2"
      ]
    },
    {
      "cell_type": "markdown",
      "metadata": {
        "id": "rTCt7r-Yjv-L"
      },
      "source": [
        "## LSTM"
      ]
    },
    {
      "cell_type": "code",
      "execution_count": null,
      "metadata": {
        "colab": {
          "base_uri": "https://localhost:8080/"
        },
        "id": "oFIuVZp5c0Yn",
        "outputId": "42c743fa-9527-422b-e5af-f2ce11e77c8b"
      },
      "outputs": [
        {
          "name": "stdout",
          "output_type": "stream",
          "text": [
            "Model: \"model2_LSTM\"\n",
            "_________________________________________________________________\n",
            " Layer (type)                Output Shape              Param #   \n",
            "=================================================================\n",
            " embedding (Embedding)       (None, 42, 128)           84224     \n",
            "                                                                 \n",
            " lstm_1 (LSTM)               (None, 64)                49408     \n",
            "                                                                 \n",
            " batch_normalization (BatchN  (None, 64)               256       \n",
            " ormalization)                                                   \n",
            "                                                                 \n",
            " dense_3 (Dense)             (None, 32)                2080      \n",
            "                                                                 \n",
            " dense_4 (Dense)             (None, 16)                528       \n",
            "                                                                 \n",
            " dropout (Dropout)           (None, 16)                0         \n",
            "                                                                 \n",
            " batch_normalization_1 (Batc  (None, 16)               64        \n",
            " hNormalization)                                                 \n",
            "                                                                 \n",
            " dense_5 (Dense)             (None, 4)                 68        \n",
            "                                                                 \n",
            "=================================================================\n",
            "Total params: 136,628\n",
            "Trainable params: 136,468\n",
            "Non-trainable params: 160\n",
            "_________________________________________________________________\n"
          ]
        }
      ],
      "source": [
        "# Second model must define type of helps that needed\n",
        "model2 = Sequential(name=\"model2_LSTM\")\n",
        "model2.add(Embedding(voc.num_words, 128, input_length=MAX_LENGTH))\n",
        "model2.add(LSTM(64, return_sequences=False))\n",
        "model2.add(BatchNormalization())\n",
        "model2.add(Dense(32, activation='tanh'))\n",
        "model2.add(Dense(16, activation='tanh'))\n",
        "model2.add(Dropout(0.75))\n",
        "model2.add(BatchNormalization())\n",
        "model2.add(Dense(4, activation='sigmoid'))\n",
        "\n",
        "model2.compile(loss='binary_crossentropy', optimizer='Adam', metrics=['accuracy'])\n",
        "\n",
        "model2.summary()"
      ]
    },
    {
      "cell_type": "code",
      "execution_count": null,
      "metadata": {
        "colab": {
          "base_uri": "https://localhost:8080/"
        },
        "id": "BSqIIjCrjTsl",
        "outputId": "77feb67e-82b8-402d-de27-1d9a0f088410"
      },
      "outputs": [
        {
          "name": "stdout",
          "output_type": "stream",
          "text": [
            "Epoch 1/100\n",
            "5/5 [==============================] - 4s 194ms/step - loss: 0.7756 - accuracy: 0.3837 - val_loss: 0.6745 - val_accuracy: 0.7545\n",
            "Epoch 2/100\n",
            "5/5 [==============================] - 0s 49ms/step - loss: 0.6326 - accuracy: 0.5814 - val_loss: 0.6625 - val_accuracy: 0.7909\n",
            "Epoch 3/100\n",
            "5/5 [==============================] - 0s 51ms/step - loss: 0.6037 - accuracy: 0.6977 - val_loss: 0.6522 - val_accuracy: 0.7727\n",
            "Epoch 4/100\n",
            "5/5 [==============================] - 0s 49ms/step - loss: 0.5692 - accuracy: 0.6860 - val_loss: 0.6485 - val_accuracy: 0.8091\n",
            "Epoch 5/100\n",
            "5/5 [==============================] - 0s 50ms/step - loss: 0.5558 - accuracy: 0.7016 - val_loss: 0.6433 - val_accuracy: 0.7818\n",
            "Epoch 6/100\n",
            "5/5 [==============================] - 0s 48ms/step - loss: 0.5294 - accuracy: 0.7597 - val_loss: 0.6400 - val_accuracy: 0.7909\n",
            "Epoch 7/100\n",
            "5/5 [==============================] - 0s 53ms/step - loss: 0.5165 - accuracy: 0.7481 - val_loss: 0.6343 - val_accuracy: 0.7909\n",
            "Epoch 8/100\n",
            "5/5 [==============================] - 0s 48ms/step - loss: 0.5315 - accuracy: 0.7519 - val_loss: 0.6304 - val_accuracy: 0.8182\n",
            "Epoch 9/100\n",
            "5/5 [==============================] - 0s 50ms/step - loss: 0.4991 - accuracy: 0.7946 - val_loss: 0.6244 - val_accuracy: 0.8273\n",
            "Epoch 10/100\n",
            "5/5 [==============================] - 0s 48ms/step - loss: 0.5038 - accuracy: 0.7984 - val_loss: 0.6209 - val_accuracy: 0.8455\n",
            "Epoch 11/100\n",
            "5/5 [==============================] - 0s 51ms/step - loss: 0.4855 - accuracy: 0.8411 - val_loss: 0.6188 - val_accuracy: 0.8273\n",
            "Epoch 12/100\n",
            "5/5 [==============================] - 0s 48ms/step - loss: 0.4876 - accuracy: 0.8062 - val_loss: 0.6159 - val_accuracy: 0.8273\n",
            "Epoch 13/100\n",
            "5/5 [==============================] - 0s 52ms/step - loss: 0.4743 - accuracy: 0.8295 - val_loss: 0.6097 - val_accuracy: 0.8364\n",
            "Epoch 14/100\n",
            "5/5 [==============================] - 0s 50ms/step - loss: 0.4618 - accuracy: 0.8450 - val_loss: 0.6036 - val_accuracy: 0.8273\n",
            "Epoch 15/100\n",
            "5/5 [==============================] - 0s 49ms/step - loss: 0.4668 - accuracy: 0.8333 - val_loss: 0.5987 - val_accuracy: 0.8091\n",
            "Epoch 16/100\n",
            "5/5 [==============================] - 0s 50ms/step - loss: 0.4596 - accuracy: 0.8488 - val_loss: 0.5941 - val_accuracy: 0.8091\n",
            "Epoch 17/100\n",
            "5/5 [==============================] - 0s 49ms/step - loss: 0.4449 - accuracy: 0.8605 - val_loss: 0.5907 - val_accuracy: 0.8091\n",
            "Epoch 18/100\n",
            "5/5 [==============================] - 0s 51ms/step - loss: 0.4623 - accuracy: 0.8333 - val_loss: 0.5889 - val_accuracy: 0.8091\n",
            "Epoch 19/100\n",
            "5/5 [==============================] - 0s 49ms/step - loss: 0.4497 - accuracy: 0.8295 - val_loss: 0.5849 - val_accuracy: 0.8091\n",
            "Epoch 20/100\n",
            "5/5 [==============================] - 0s 56ms/step - loss: 0.4422 - accuracy: 0.8643 - val_loss: 0.5781 - val_accuracy: 0.8091\n",
            "Epoch 21/100\n",
            "5/5 [==============================] - 0s 50ms/step - loss: 0.4585 - accuracy: 0.8140 - val_loss: 0.5693 - val_accuracy: 0.8091\n",
            "Epoch 22/100\n",
            "5/5 [==============================] - 0s 50ms/step - loss: 0.4440 - accuracy: 0.7984 - val_loss: 0.5585 - val_accuracy: 0.8091\n",
            "Epoch 23/100\n",
            "5/5 [==============================] - 0s 48ms/step - loss: 0.4308 - accuracy: 0.8527 - val_loss: 0.5469 - val_accuracy: 0.8091\n",
            "Epoch 24/100\n",
            "5/5 [==============================] - 0s 51ms/step - loss: 0.4372 - accuracy: 0.8333 - val_loss: 0.5413 - val_accuracy: 0.8091\n",
            "Epoch 25/100\n",
            "5/5 [==============================] - 0s 50ms/step - loss: 0.4325 - accuracy: 0.8527 - val_loss: 0.5372 - val_accuracy: 0.8091\n",
            "Epoch 26/100\n",
            "5/5 [==============================] - 0s 50ms/step - loss: 0.4243 - accuracy: 0.8876 - val_loss: 0.5331 - val_accuracy: 0.8091\n",
            "Epoch 27/100\n",
            "5/5 [==============================] - 0s 49ms/step - loss: 0.4255 - accuracy: 0.8643 - val_loss: 0.5247 - val_accuracy: 0.8091\n",
            "Epoch 28/100\n",
            "5/5 [==============================] - 0s 49ms/step - loss: 0.4116 - accuracy: 0.8566 - val_loss: 0.5190 - val_accuracy: 0.8091\n",
            "Epoch 29/100\n",
            "5/5 [==============================] - 0s 48ms/step - loss: 0.4137 - accuracy: 0.8721 - val_loss: 0.5106 - val_accuracy: 0.8000\n",
            "Epoch 30/100\n",
            "5/5 [==============================] - 0s 50ms/step - loss: 0.3889 - accuracy: 0.8953 - val_loss: 0.5042 - val_accuracy: 0.8182\n",
            "Epoch 31/100\n",
            "5/5 [==============================] - 0s 48ms/step - loss: 0.4060 - accuracy: 0.8721 - val_loss: 0.4967 - val_accuracy: 0.8182\n",
            "Epoch 32/100\n",
            "5/5 [==============================] - 0s 52ms/step - loss: 0.3990 - accuracy: 0.8915 - val_loss: 0.4916 - val_accuracy: 0.8182\n",
            "Epoch 33/100\n",
            "5/5 [==============================] - 0s 49ms/step - loss: 0.3711 - accuracy: 0.8876 - val_loss: 0.4916 - val_accuracy: 0.8091\n",
            "Epoch 34/100\n",
            "5/5 [==============================] - 0s 49ms/step - loss: 0.3747 - accuracy: 0.8876 - val_loss: 0.4886 - val_accuracy: 0.8091\n",
            "Epoch 35/100\n",
            "5/5 [==============================] - 0s 49ms/step - loss: 0.3765 - accuracy: 0.8682 - val_loss: 0.4857 - val_accuracy: 0.8091\n",
            "Epoch 36/100\n",
            "5/5 [==============================] - 0s 52ms/step - loss: 0.3725 - accuracy: 0.9031 - val_loss: 0.4809 - val_accuracy: 0.8091\n",
            "Epoch 37/100\n",
            "5/5 [==============================] - 0s 51ms/step - loss: 0.3654 - accuracy: 0.9109 - val_loss: 0.4753 - val_accuracy: 0.8091\n",
            "Epoch 38/100\n",
            "5/5 [==============================] - 0s 49ms/step - loss: 0.3582 - accuracy: 0.8992 - val_loss: 0.4704 - val_accuracy: 0.8182\n",
            "Epoch 39/100\n",
            "5/5 [==============================] - 0s 48ms/step - loss: 0.3526 - accuracy: 0.8953 - val_loss: 0.4709 - val_accuracy: 0.8182\n",
            "Epoch 40/100\n",
            "5/5 [==============================] - 0s 52ms/step - loss: 0.3539 - accuracy: 0.8992 - val_loss: 0.4704 - val_accuracy: 0.8182\n",
            "Epoch 41/100\n",
            "5/5 [==============================] - 0s 49ms/step - loss: 0.3517 - accuracy: 0.8876 - val_loss: 0.4674 - val_accuracy: 0.8182\n",
            "Epoch 42/100\n",
            "5/5 [==============================] - 0s 56ms/step - loss: 0.3495 - accuracy: 0.8992 - val_loss: 0.4576 - val_accuracy: 0.8182\n",
            "Epoch 43/100\n",
            "5/5 [==============================] - 0s 56ms/step - loss: 0.3395 - accuracy: 0.8992 - val_loss: 0.4473 - val_accuracy: 0.8182\n",
            "Epoch 44/100\n",
            "5/5 [==============================] - 0s 56ms/step - loss: 0.3447 - accuracy: 0.9070 - val_loss: 0.4388 - val_accuracy: 0.8273\n",
            "Epoch 45/100\n",
            "5/5 [==============================] - 0s 51ms/step - loss: 0.3366 - accuracy: 0.8760 - val_loss: 0.4325 - val_accuracy: 0.8182\n",
            "Epoch 46/100\n",
            "5/5 [==============================] - 0s 51ms/step - loss: 0.3112 - accuracy: 0.9147 - val_loss: 0.4269 - val_accuracy: 0.8182\n",
            "Epoch 47/100\n",
            "5/5 [==============================] - 0s 49ms/step - loss: 0.3234 - accuracy: 0.8915 - val_loss: 0.4199 - val_accuracy: 0.8273\n",
            "Epoch 48/100\n",
            "5/5 [==============================] - 0s 51ms/step - loss: 0.3131 - accuracy: 0.9109 - val_loss: 0.4173 - val_accuracy: 0.8182\n",
            "Epoch 49/100\n",
            "5/5 [==============================] - 0s 50ms/step - loss: 0.3145 - accuracy: 0.8992 - val_loss: 0.4146 - val_accuracy: 0.8273\n",
            "Epoch 50/100\n",
            "5/5 [==============================] - 0s 49ms/step - loss: 0.3329 - accuracy: 0.8992 - val_loss: 0.4041 - val_accuracy: 0.8182\n",
            "Epoch 51/100\n",
            "5/5 [==============================] - 0s 49ms/step - loss: 0.3109 - accuracy: 0.9186 - val_loss: 0.3924 - val_accuracy: 0.8182\n",
            "Epoch 52/100\n",
            "5/5 [==============================] - 0s 51ms/step - loss: 0.3126 - accuracy: 0.9225 - val_loss: 0.3847 - val_accuracy: 0.8182\n",
            "Epoch 53/100\n",
            "5/5 [==============================] - 0s 50ms/step - loss: 0.2962 - accuracy: 0.9225 - val_loss: 0.3764 - val_accuracy: 0.8182\n",
            "Epoch 54/100\n",
            "5/5 [==============================] - 0s 50ms/step - loss: 0.3022 - accuracy: 0.9070 - val_loss: 0.3670 - val_accuracy: 0.8182\n",
            "Epoch 55/100\n",
            "5/5 [==============================] - 0s 49ms/step - loss: 0.3403 - accuracy: 0.8488 - val_loss: 0.3566 - val_accuracy: 0.8182\n",
            "Epoch 56/100\n",
            "5/5 [==============================] - 0s 52ms/step - loss: 0.3223 - accuracy: 0.8915 - val_loss: 0.3464 - val_accuracy: 0.8182\n",
            "Epoch 57/100\n",
            "5/5 [==============================] - 0s 51ms/step - loss: 0.3080 - accuracy: 0.9070 - val_loss: 0.3418 - val_accuracy: 0.8182\n",
            "Epoch 58/100\n",
            "5/5 [==============================] - 0s 49ms/step - loss: 0.3112 - accuracy: 0.8837 - val_loss: 0.3360 - val_accuracy: 0.8182\n",
            "Epoch 59/100\n",
            "5/5 [==============================] - 0s 48ms/step - loss: 0.2961 - accuracy: 0.8915 - val_loss: 0.3312 - val_accuracy: 0.8273\n",
            "Epoch 60/100\n",
            "5/5 [==============================] - 0s 52ms/step - loss: 0.3157 - accuracy: 0.8682 - val_loss: 0.3280 - val_accuracy: 0.8182\n",
            "Epoch 61/100\n",
            "5/5 [==============================] - 0s 49ms/step - loss: 0.2886 - accuracy: 0.9109 - val_loss: 0.3251 - val_accuracy: 0.8273\n",
            "Epoch 62/100\n",
            "5/5 [==============================] - 0s 55ms/step - loss: 0.2826 - accuracy: 0.9031 - val_loss: 0.3201 - val_accuracy: 0.8273\n",
            "Epoch 63/100\n",
            "5/5 [==============================] - 0s 49ms/step - loss: 0.2819 - accuracy: 0.9147 - val_loss: 0.3149 - val_accuracy: 0.8273\n",
            "Epoch 64/100\n",
            "5/5 [==============================] - 0s 51ms/step - loss: 0.2745 - accuracy: 0.9031 - val_loss: 0.3107 - val_accuracy: 0.8273\n",
            "Epoch 65/100\n",
            "5/5 [==============================] - 0s 56ms/step - loss: 0.2728 - accuracy: 0.8915 - val_loss: 0.3079 - val_accuracy: 0.8364\n",
            "Epoch 66/100\n",
            "5/5 [==============================] - 0s 49ms/step - loss: 0.2791 - accuracy: 0.8837 - val_loss: 0.3036 - val_accuracy: 0.8364\n",
            "Epoch 67/100\n",
            "5/5 [==============================] - 0s 48ms/step - loss: 0.2780 - accuracy: 0.8798 - val_loss: 0.3015 - val_accuracy: 0.8364\n",
            "Epoch 68/100\n",
            "5/5 [==============================] - 0s 51ms/step - loss: 0.2746 - accuracy: 0.8953 - val_loss: 0.2980 - val_accuracy: 0.8364\n",
            "Epoch 69/100\n",
            "5/5 [==============================] - 0s 51ms/step - loss: 0.2659 - accuracy: 0.8760 - val_loss: 0.2927 - val_accuracy: 0.8364\n",
            "Epoch 70/100\n",
            "5/5 [==============================] - 0s 49ms/step - loss: 0.2892 - accuracy: 0.8760 - val_loss: 0.2879 - val_accuracy: 0.8364\n",
            "Epoch 71/100\n",
            "5/5 [==============================] - 0s 49ms/step - loss: 0.2800 - accuracy: 0.8760 - val_loss: 0.2820 - val_accuracy: 0.8364\n",
            "Epoch 72/100\n",
            "5/5 [==============================] - 0s 51ms/step - loss: 0.2665 - accuracy: 0.8992 - val_loss: 0.2782 - val_accuracy: 0.8364\n",
            "Epoch 73/100\n",
            "5/5 [==============================] - 0s 50ms/step - loss: 0.2662 - accuracy: 0.8798 - val_loss: 0.2741 - val_accuracy: 0.8364\n",
            "Epoch 74/100\n",
            "5/5 [==============================] - 0s 49ms/step - loss: 0.2700 - accuracy: 0.8798 - val_loss: 0.2680 - val_accuracy: 0.8273\n",
            "Epoch 75/100\n",
            "5/5 [==============================] - 0s 54ms/step - loss: 0.2542 - accuracy: 0.9070 - val_loss: 0.2634 - val_accuracy: 0.8273\n",
            "Epoch 76/100\n",
            "5/5 [==============================] - 0s 52ms/step - loss: 0.2567 - accuracy: 0.8876 - val_loss: 0.2596 - val_accuracy: 0.8273\n",
            "Epoch 77/100\n",
            "5/5 [==============================] - 0s 48ms/step - loss: 0.2419 - accuracy: 0.8915 - val_loss: 0.2552 - val_accuracy: 0.8364\n",
            "Epoch 78/100\n",
            "5/5 [==============================] - 0s 51ms/step - loss: 0.2638 - accuracy: 0.8837 - val_loss: 0.2522 - val_accuracy: 0.8455\n",
            "Epoch 79/100\n",
            "5/5 [==============================] - 0s 48ms/step - loss: 0.2383 - accuracy: 0.8992 - val_loss: 0.2493 - val_accuracy: 0.8545\n",
            "Epoch 80/100\n",
            "5/5 [==============================] - 0s 52ms/step - loss: 0.2364 - accuracy: 0.9031 - val_loss: 0.2458 - val_accuracy: 0.8545\n",
            "Epoch 81/100\n",
            "5/5 [==============================] - 0s 55ms/step - loss: 0.2466 - accuracy: 0.9147 - val_loss: 0.2430 - val_accuracy: 0.8273\n",
            "Epoch 82/100\n",
            "5/5 [==============================] - 0s 49ms/step - loss: 0.2566 - accuracy: 0.8566 - val_loss: 0.2391 - val_accuracy: 0.8273\n",
            "Epoch 83/100\n",
            "5/5 [==============================] - 0s 49ms/step - loss: 0.2354 - accuracy: 0.8915 - val_loss: 0.2360 - val_accuracy: 0.8273\n",
            "Epoch 84/100\n",
            "5/5 [==============================] - 0s 53ms/step - loss: 0.2343 - accuracy: 0.9186 - val_loss: 0.2334 - val_accuracy: 0.8273\n",
            "Epoch 85/100\n",
            "5/5 [==============================] - 0s 48ms/step - loss: 0.2319 - accuracy: 0.8953 - val_loss: 0.2371 - val_accuracy: 0.8273\n",
            "Epoch 86/100\n",
            "5/5 [==============================] - 0s 52ms/step - loss: 0.2308 - accuracy: 0.8953 - val_loss: 0.2376 - val_accuracy: 0.8364\n",
            "Epoch 87/100\n",
            "5/5 [==============================] - ETA: 0s - loss: 0.2317 - accuracy: 0.8682Restoring model weights from the end of the best epoch: 84.\n",
            "5/5 [==============================] - 0s 57ms/step - loss: 0.2317 - accuracy: 0.8682 - val_loss: 0.2343 - val_accuracy: 0.8364\n",
            "Epoch 87: early stopping\n"
          ]
        },
        {
          "data": {
            "text/plain": [
              "<keras.callbacks.History at 0x7f1228db6710>"
            ]
          },
          "execution_count": 32,
          "metadata": {},
          "output_type": "execute_result"
        }
      ],
      "source": [
        "model2.fit(x2_train, y2_train, batch_size=64, epochs=100, callbacks=[early_stopping()], validation_data=(x2_test, y2_test))"
      ]
    },
    {
      "cell_type": "code",
      "execution_count": null,
      "metadata": {
        "id": "ugnJ15cQmzU6"
      },
      "outputs": [],
      "source": [
        "# model2.save(\"model2_LSTM.h5\")"
      ]
    },
    {
      "cell_type": "code",
      "execution_count": null,
      "metadata": {
        "id": "F4M1jv-pwfci"
      },
      "outputs": [],
      "source": [
        "# model2 = load_model(\"model2_LSTM.h5\")"
      ]
    },
    {
      "cell_type": "code",
      "execution_count": null,
      "metadata": {
        "colab": {
          "base_uri": "https://localhost:8080/"
        },
        "id": "geKhdorUj_e2",
        "outputId": "35697c69-afc1-4c98-d0e7-a6633483280a"
      },
      "outputs": [
        {
          "name": "stdout",
          "output_type": "stream",
          "text": [
            "4/4 [==============================] - 1s 9ms/step - loss: 0.5658 - accuracy: 0.5364\n"
          ]
        },
        {
          "data": {
            "text/plain": [
              "[0.5658222436904907, 0.5363636612892151]"
            ]
          },
          "execution_count": 261,
          "metadata": {},
          "output_type": "execute_result"
        }
      ],
      "source": [
        "model2.evaluate(x2_test, y2_test)"
      ]
    },
    {
      "cell_type": "code",
      "execution_count": null,
      "metadata": {
        "id": "5UzILmN-lhCF"
      },
      "outputs": [],
      "source": [
        "predict = model2.predict(x2_test).round()\n",
        "y_true = y2_test"
      ]
    },
    {
      "cell_type": "markdown",
      "metadata": {
        "id": "_zGgkLxPN0nP"
      },
      "source": [
        "## RNN"
      ]
    },
    {
      "cell_type": "code",
      "execution_count": null,
      "metadata": {
        "id": "M4XRZuHpN6Fr"
      },
      "outputs": [],
      "source": [
        "# Second model must define type of helps that needed\n",
        "\n",
        "model2 = Sequential(name=\"model2_RNN\")\n",
        "model2.add(Embedding(voc.num_words, 128, input_length=MAX_LENGTH))\n",
        "model2.add(SimpleRNN(64, return_sequences=False))\n",
        "model2.add(BatchNormalization())\n",
        "model2.add(Dense(32, activation='tanh'))\n",
        "model2.add(Dense(16, activation='tanh'))\n",
        "model2.add(Dense(8, activation='tanh'))\n",
        "model2.add(Dropout(0.75))\n",
        "model2.add(BatchNormalization())\n",
        "model2.add(Dense(4, activation='sigmoid'))\n",
        "\n",
        "model2.compile(loss='binary_crossentropy', optimizer='Adam', metrics=['accuracy'])\n",
        "\n",
        "model2.summary()"
      ]
    },
    {
      "cell_type": "code",
      "execution_count": null,
      "metadata": {
        "id": "qqng0MacOFu8"
      },
      "outputs": [],
      "source": [
        "model2.fit(x2_train, y2_train, batch_size=64, epochs=100, callbacks=[early_stopping()], validation_data=(x2_test, y2_test))"
      ]
    },
    {
      "cell_type": "code",
      "execution_count": null,
      "metadata": {
        "id": "LU-jl1q6OT0I"
      },
      "outputs": [],
      "source": [
        "# model2.save(\"model2_RNN.h5\")"
      ]
    },
    {
      "cell_type": "code",
      "execution_count": null,
      "metadata": {
        "id": "0X0fY7HHOYvU"
      },
      "outputs": [],
      "source": [
        "# model2 = load_model(\"model2_LSTM.h5\")"
      ]
    },
    {
      "cell_type": "code",
      "execution_count": null,
      "metadata": {
        "id": "lH170dpwOZc5"
      },
      "outputs": [],
      "source": [
        "model2.evaluate(x2_test, y2_test)"
      ]
    },
    {
      "cell_type": "code",
      "execution_count": null,
      "metadata": {
        "id": "UOLGCyp-OcT7"
      },
      "outputs": [],
      "source": [
        "predict = model2.predict(x2_test).round()\n",
        "y_true = y2_test"
      ]
    },
    {
      "cell_type": "markdown",
      "metadata": {
        "id": "UjMoVr7xOfG9"
      },
      "source": [
        "## GRU"
      ]
    },
    {
      "cell_type": "code",
      "execution_count": null,
      "metadata": {
        "id": "Q9mOnA3POhnp"
      },
      "outputs": [],
      "source": [
        "# Second model must define type of helps that needed\n",
        "\n",
        "model2 = Sequential(name=\"model2_GRU\")\n",
        "model2.add(Embedding(voc.num_words, 128, input_length=MAX_LENGTH))\n",
        "model2.add(GRU(64, return_sequences=False))\n",
        "model2.add(BatchNormalization())\n",
        "model2.add(Dense(32, activation='tanh'))\n",
        "model2.add(Dense(16, activation='tanh'))\n",
        "model2.add(Dense(8, activation='tanh'))\n",
        "model2.add(Dropout(0.75))\n",
        "model2.add(BatchNormalization())\n",
        "model2.add(Dense(4, activation='sigmoid'))\n",
        "\n",
        "model2.compile(loss='binary_crossentropy', optimizer='Adam', metrics=['accuracy'])\n",
        "\n",
        "model2.summary()"
      ]
    },
    {
      "cell_type": "code",
      "execution_count": null,
      "metadata": {
        "id": "2VRU-WBnOqyA"
      },
      "outputs": [],
      "source": [
        "# model2.save(\"model2_GRU.h5\")"
      ]
    },
    {
      "cell_type": "code",
      "execution_count": null,
      "metadata": {
        "id": "RJdH8vChOqn7"
      },
      "outputs": [],
      "source": [
        "# model2 = load_model(\"model2_GRU.h5\")"
      ]
    },
    {
      "cell_type": "code",
      "execution_count": null,
      "metadata": {
        "id": "9TwrzKJGO0mN"
      },
      "outputs": [],
      "source": [
        "model2.evaluate(x2_test, y2_test)"
      ]
    },
    {
      "cell_type": "code",
      "execution_count": null,
      "metadata": {
        "id": "HlH5ThcUO1Nw"
      },
      "outputs": [],
      "source": [
        "predict = model2.predict(x2_test).round()\n",
        "y_true = y2_test"
      ]
    },
    {
      "cell_type": "markdown",
      "metadata": {
        "id": "cipEgbhnO4MW"
      },
      "source": [
        "## CNN"
      ]
    },
    {
      "cell_type": "code",
      "execution_count": null,
      "metadata": {
        "id": "s94dMJyVO6pd"
      },
      "outputs": [],
      "source": [
        "# Second model must define type of helps that needed\n",
        "\n",
        "model2 = Sequential(name=\"model2_CNN\")\n",
        "model2.add(Embedding(voc.num_words, 128, input_length=MAX_LENGTH))\n",
        "model2.add(Conv1D(64, kernel_size=3))\n",
        "model2.add(MaxPooling1D())\n",
        "model2.add(Conv1D(64, kernel_size=3))\n",
        "model2.add(MaxPooling1D())\n",
        "model2.add(Conv1D(128, kernel_size=3))\n",
        "model2.add(MaxPooling1D())\n",
        "model2.add(Conv1D(128, kernel_size=3))\n",
        "model2.add(Flatten())\n",
        "model2.add(BatchNormalization())\n",
        "model2.add(Dense(32, activation='tanh'))\n",
        "model2.add(Dense(16, activation='tanh'))\n",
        "model2.add(Dense(8, activation='tanh'))\n",
        "model2.add(Dropout(0.75))\n",
        "model2.add(BatchNormalization())\n",
        "model2.add(Dense(4, activation='sigmoid'))\n",
        "\n",
        "model2.compile(loss='binary_crossentropy', optimizer='Adam', metrics=['accuracy'])\n",
        "\n",
        "model2.summary()"
      ]
    },
    {
      "cell_type": "code",
      "execution_count": null,
      "metadata": {
        "id": "2CHpaQBYPHfS"
      },
      "outputs": [],
      "source": [
        "# model2.save(\"model2_CNN.h5\")"
      ]
    },
    {
      "cell_type": "code",
      "execution_count": null,
      "metadata": {
        "id": "W8DostnlPHbY"
      },
      "outputs": [],
      "source": [
        "# model2 = load_model(\"model2_CNN.h5\")"
      ]
    },
    {
      "cell_type": "code",
      "execution_count": null,
      "metadata": {
        "id": "FBQTPFDUPHV8"
      },
      "outputs": [],
      "source": [
        "model2.evaluate(x2_test, y2_test)"
      ]
    },
    {
      "cell_type": "code",
      "execution_count": null,
      "metadata": {
        "id": "eI39UzNgPHQF"
      },
      "outputs": [],
      "source": [
        "predict = model2.predict(x2_test).round()\n",
        "y_true = y2_test"
      ]
    },
    {
      "cell_type": "markdown",
      "metadata": {
        "id": "qSoUcC7iPVyh"
      },
      "source": [
        "## MLP"
      ]
    },
    {
      "cell_type": "code",
      "execution_count": null,
      "metadata": {
        "id": "dW2udyuVPZVW"
      },
      "outputs": [],
      "source": [
        "# Second model must define type of helps that needed\n",
        "\n",
        "model2 = Sequential(name=\"model1_GRU\")\n",
        "model2.add(Embedding(voc.num_words, 128, input_length=MAX_LENGTH))\n",
        "model2.add(Flatten())\n",
        "model2.add(BatchNormalization())\n",
        "model2.add(Dense(32, activation='tanh'))\n",
        "model2.add(Dense(16, activation='tanh'))\n",
        "model2.add(Dense(8, activation='tanh'))\n",
        "model2.add(Dropout(0.75))\n",
        "model2.add(BatchNormalization())\n",
        "model2.add(Dense(4, activation='sigmoid'))\n",
        "\n",
        "model2.compile(loss='binary_crossentropy', optimizer='Adam', metrics=['accuracy'])\n",
        "\n",
        "model2.summary()"
      ]
    },
    {
      "cell_type": "code",
      "execution_count": null,
      "metadata": {
        "id": "X9P-6bT3PZSi"
      },
      "outputs": [],
      "source": [
        "# model2.save(\"model2_MLP.h5\")"
      ]
    },
    {
      "cell_type": "code",
      "execution_count": null,
      "metadata": {
        "id": "q2AKtbTrPZN5"
      },
      "outputs": [],
      "source": [
        "# model2 = load_model(\"model2_MLP.h5\")"
      ]
    },
    {
      "cell_type": "code",
      "execution_count": null,
      "metadata": {
        "id": "WC4xsttIPY0M"
      },
      "outputs": [],
      "source": [
        "model2.evaluate(x2_test, y2_test)"
      ]
    },
    {
      "cell_type": "code",
      "execution_count": null,
      "metadata": {
        "id": "7j_elBVM8YeO"
      },
      "outputs": [],
      "source": [
        "predict = model2.predict(x2_test).round()\n",
        "y_true = y2_test"
      ]
    },
    {
      "cell_type": "markdown",
      "metadata": {
        "id": "zVvlwqIP8bEK"
      },
      "source": [
        "## Bert"
      ]
    },
    {
      "cell_type": "code",
      "execution_count": null,
      "metadata": {
        "id": "CQY8iCtM8cS9"
      },
      "outputs": [],
      "source": [
        "bert_preprocess = hub.KerasLayer(\"https://tfhub.dev/tensorflow/bert_en_uncased_preprocess/3\")\n",
        "bert_encoder = hub.KerasLayer(\"https://tfhub.dev/tensorflow/bert_en_uncased_L-12_H-768_A-12/4\",trainable=False)"
      ]
    },
    {
      "cell_type": "code",
      "execution_count": null,
      "metadata": {
        "id": "t0RL4HbS8hou"
      },
      "outputs": [],
      "source": [
        "text_input = Input(shape=(), dtype=tf.string, name='text')\n",
        "preprocessed_text = bert_preprocess(text_input)\n",
        "outputs = bert_encoder(preprocessed_text)\n",
        "\n",
        "\n",
        "y = LSTM(64)(outputs['sequence_output'])\n",
        "y = Dense(16, activation='tanh')(y)\n",
        "y = Dense(8, activation='tanh')(y)\n",
        "y = Dense(4, activation='sigmoid')(y)\n",
        "\n",
        "\n",
        "model = Model(inputs=[text_input], outputs = [y], name=\"model1_Bert\")\n",
        "\n",
        "model.compile(loss='binary_crossentropy', optimizer='Adam', metrics=['accuracy'])\n",
        "\n",
        "model.summary()"
      ]
    },
    {
      "cell_type": "code",
      "execution_count": null,
      "metadata": {
        "id": "Q9uHjvzx8o9z"
      },
      "outputs": [],
      "source": [
        "model.fit(train_texts[train_need_help_indexes],y2_train, batch_size=64, epochs=100, callbacks=[early_stopping()], validation_data=(test_texts[test_need_help_indexes], y2_test))"
      ]
    },
    {
      "cell_type": "code",
      "execution_count": null,
      "metadata": {
        "id": "3DeCCUWS9Dik"
      },
      "outputs": [],
      "source": [
        "# model2.save(\"model2_Bert.h5\")"
      ]
    },
    {
      "cell_type": "code",
      "execution_count": null,
      "metadata": {
        "id": "9iUEQ23G9GTb"
      },
      "outputs": [],
      "source": [
        "# model2 = load_model(\"model2_Bert.h5\")"
      ]
    },
    {
      "cell_type": "code",
      "execution_count": null,
      "metadata": {
        "id": "LUjy4KhY9JX-"
      },
      "outputs": [],
      "source": [
        "model2.evaluate(test_texts[test_need_help_indexes], y2_test)"
      ]
    },
    {
      "cell_type": "code",
      "execution_count": null,
      "metadata": {
        "id": "LbmaF_6i9Pl2"
      },
      "outputs": [],
      "source": [
        "predict = model2.predict(x2_test).round()\n",
        "y_true = y2_test"
      ]
    },
    {
      "cell_type": "markdown",
      "metadata": {
        "id": "ACXEUbZ69RCG"
      },
      "source": []
    },
    {
      "cell_type": "code",
      "execution_count": null,
      "metadata": {
        "colab": {
          "base_uri": "https://localhost:8080/"
        },
        "id": "1AczviG7mjUm",
        "outputId": "fe3284d1-a5be-466b-a35a-a99292ce2edd"
      },
      "outputs": [
        {
          "name": "stdout",
          "output_type": "stream",
          "text": [
            "All:  110\n",
            "#################################\n",
            "Actual in class #0 :  11.0\n",
            "Predicted in class #0 :  1.0\n",
            "#################################\n",
            "Actual in class #1 :  39.0\n",
            "Predicted in class #1 :  17.0\n",
            "#################################\n",
            "Actual in class #2 :  2.0\n",
            "Predicted in class #2 :  0.0\n",
            "#################################\n",
            "Actual in class #3 :  64.0\n",
            "Predicted in class #3 :  106.0\n"
          ]
        }
      ],
      "source": [
        "print(\"All: \", len(y_true))\n",
        "for i in range(4):\n",
        "  print(\"#################################\")\n",
        "  print(\"Actual in class #\"+str(i)+\" : \", y_true[:, i].sum())\n",
        "  print(\"Predicted in class #\"+str(i)+\" : \", predict[:, i].sum())"
      ]
    },
    {
      "cell_type": "code",
      "execution_count": null,
      "metadata": {
        "colab": {
          "base_uri": "https://localhost:8080/"
        },
        "id": "UjHOkenUv-4C",
        "outputId": "6bb9fbd2-9a5b-4e25-fbb4-07e7c35e1108"
      },
      "outputs": [
        {
          "name": "stdout",
          "output_type": "stream",
          "text": [
            "Total:  465\n",
            "Class #0 355\n",
            "Class #1 110\n"
          ]
        }
      ],
      "source": [
        "print(\"Total: \", len(y1_test))\n",
        "print(\"Class #0\", len(np.where(y1_test==0.0)[0]))\n",
        "print(\"Class #1\", len(np.where(y1_test==1.0)[0]))"
      ]
    },
    {
      "cell_type": "code",
      "execution_count": null,
      "metadata": {
        "colab": {
          "base_uri": "https://localhost:8080/"
        },
        "id": "mpKFEYRMwxLs",
        "outputId": "d695ab1d-be14-44d0-de20-710126e29946"
      },
      "outputs": [
        {
          "name": "stdout",
          "output_type": "stream",
          "text": [
            "Only class #1\n",
            "Total:  110\n",
            "Class #11 \t 8\n",
            "Class #12 \t 38\n",
            "Class #13 \t 0\n",
            "Class #14 \t 58\n",
            "Class #112 \t 0\n",
            "Class #113 \t 0\n",
            "Class #114 \t 3\n",
            "Class #123 \t 0\n",
            "Class #124 \t 1\n",
            "Class #134 \t 2\n",
            "Class #1123 \t 0\n",
            "Class #1124 \t 0\n",
            "Class #1134 \t 0\n",
            "Class #1234 \t 0\n"
          ]
        }
      ],
      "source": [
        "print(\"Only class #1\")\n",
        "print(\"Total: \", len(y2_test))\n",
        "print(\"Class #11 \\t\", len(np.nonzero(np.abs(y2_test - np.array([1., 0., 0., 0.])).sum(axis=1) < 0.1)[0]))\n",
        "print(\"Class #12 \\t\", len(np.nonzero(np.abs(y2_test - np.array([0., 1., 0., 0.])).sum(axis=1) < 0.1)[0]))\n",
        "print(\"Class #13 \\t\", len(np.nonzero(np.abs(y2_test - np.array([0., 0., 1., 0.])).sum(axis=1) < 0.1)[0]))\n",
        "print(\"Class #14 \\t\", len(np.nonzero(np.abs(y2_test - np.array([0., 0., 0., 1.])).sum(axis=1) < 0.1)[0]))\n",
        "print(\"Class #112 \\t\", len(np.nonzero(np.abs(y2_test - np.array([1., 1., 0., 0.])).sum(axis=1) < 0.1)[0]))\n",
        "print(\"Class #113 \\t\", len(np.nonzero(np.abs(y2_test - np.array([1., 0., 1., 0.])).sum(axis=1) < 0.1)[0]))\n",
        "print(\"Class #114 \\t\", len(np.nonzero(np.abs(y2_test - np.array([1., 0., 0., 1.])).sum(axis=1) < 0.1)[0]))\n",
        "print(\"Class #123 \\t\", len(np.nonzero(np.abs(y2_test - np.array([0., 1., 1., 0.])).sum(axis=1) < 0.1)[0]))\n",
        "print(\"Class #124 \\t\", len(np.nonzero(np.abs(y2_test - np.array([0., 1., 0., 1.])).sum(axis=1) < 0.1)[0]))\n",
        "print(\"Class #134 \\t\", len(np.nonzero(np.abs(y2_test - np.array([0., 0., 1., 1.])).sum(axis=1) < 0.1)[0]))\n",
        "print(\"Class #1123 \\t\", len(np.nonzero(np.abs(y2_test - np.array([1., 1., 1., 0.])).sum(axis=1) < 0.1)[0]))\n",
        "print(\"Class #1124 \\t\", len(np.nonzero(np.abs(y2_test - np.array([1., 1., 0., 1.])).sum(axis=1) < 0.1)[0]))\n",
        "print(\"Class #1134 \\t\", len(np.nonzero(np.abs(y2_test - np.array([1., 0., 1., 1.])).sum(axis=1) < 0.1)[0]))\n",
        "print(\"Class #1234 \\t\", len(np.nonzero(np.abs(y2_test - np.array([0., 1., 1., 1.])).sum(axis=1) < 0.1)[0]))"
      ]
    },
    {
      "cell_type": "code",
      "execution_count": null,
      "metadata": {
        "colab": {
          "base_uri": "https://localhost:8080/"
        },
        "id": "Oq5J_UoX0-gm",
        "outputId": "fe151071-4736-4a9f-e264-fb8d13674acf"
      },
      "outputs": [
        {
          "name": "stdout",
          "output_type": "stream",
          "text": [
            "Prideicted Only class #1\n",
            "Class #11 \t 1\n",
            "Class #12 \t 0\n",
            "Class #13 \t 0\n",
            "Class #14 \t 89\n",
            "Class #112 \t 0\n",
            "Class #113 \t 0\n",
            "Class #114 \t 0\n",
            "Class #123 \t 0\n",
            "Class #124 \t 17\n",
            "Class #134 \t 0\n",
            "Class #1123 \t 0\n",
            "Class #1124 \t 0\n",
            "Class #1134 \t 0\n",
            "Class #1234 \t 0\n"
          ]
        }
      ],
      "source": [
        "print(\"Prideicted Only class #1\")\n",
        "print(\"Class #11 \\t\", len(np.nonzero(np.abs(predict - np.array([1., 0., 0., 0.])).sum(axis=1) < 0.1)[0]))\n",
        "print(\"Class #12 \\t\", len(np.nonzero(np.abs(predict - np.array([0., 1., 0., 0.])).sum(axis=1) < 0.1)[0]))\n",
        "print(\"Class #13 \\t\", len(np.nonzero(np.abs(predict - np.array([0., 0., 1., 0.])).sum(axis=1) < 0.1)[0]))\n",
        "print(\"Class #14 \\t\", len(np.nonzero(np.abs(predict - np.array([0., 0., 0., 1.])).sum(axis=1) < 0.1)[0]))\n",
        "print(\"Class #112 \\t\", len(np.nonzero(np.abs(predict - np.array([1., 1., 0., 0.])).sum(axis=1) < 0.1)[0]))\n",
        "print(\"Class #113 \\t\", len(np.nonzero(np.abs(predict - np.array([1., 0., 1., 0.])).sum(axis=1) < 0.1)[0]))\n",
        "print(\"Class #114 \\t\", len(np.nonzero(np.abs(predict - np.array([1., 0., 0., 1.])).sum(axis=1) < 0.1)[0]))\n",
        "print(\"Class #123 \\t\", len(np.nonzero(np.abs(predict - np.array([0., 1., 1., 0.])).sum(axis=1) < 0.1)[0]))\n",
        "print(\"Class #124 \\t\", len(np.nonzero(np.abs(predict - np.array([0., 1., 0., 1.])).sum(axis=1) < 0.1)[0]))\n",
        "print(\"Class #134 \\t\", len(np.nonzero(np.abs(predict - np.array([0., 0., 1., 1.])).sum(axis=1) < 0.1)[0]))\n",
        "print(\"Class #1123 \\t\", len(np.nonzero(np.abs(predict - np.array([1., 1., 1., 0.])).sum(axis=1) < 0.1)[0]))\n",
        "print(\"Class #1124 \\t\", len(np.nonzero(np.abs(predict - np.array([1., 1., 0., 1.])).sum(axis=1) < 0.1)[0]))\n",
        "print(\"Class #1134 \\t\", len(np.nonzero(np.abs(predict - np.array([1., 0., 1., 1.])).sum(axis=1) < 0.1)[0]))\n",
        "print(\"Class #1234 \\t\", len(np.nonzero(np.abs(predict - np.array([0., 1., 1., 1.])).sum(axis=1) < 0.1)[0]))"
      ]
    },
    {
      "cell_type": "code",
      "execution_count": null,
      "metadata": {
        "id": "QmKlqZNs7Gz_"
      },
      "outputs": [],
      "source": [
        "# Predict with model2 acording to model1\n",
        "model1_predict_need = np.nonzero(model.predict(x1_test).round() == 1.)[0]\n",
        "\n",
        "x3_test = x[train_test_split:][model1_predict_need]\n",
        "y3_test = y2[train_test_split:][model1_predict_need]"
      ]
    },
    {
      "cell_type": "code",
      "execution_count": null,
      "metadata": {
        "colab": {
          "base_uri": "https://localhost:8080/"
        },
        "id": "ZyAnQNE37Pv2",
        "outputId": "521ca252-4905-47fb-e6ee-7e1d7610bc72"
      },
      "outputs": [
        {
          "name": "stdout",
          "output_type": "stream",
          "text": [
            "62\n"
          ]
        }
      ],
      "source": [
        "print(len(y3_test))"
      ]
    },
    {
      "cell_type": "code",
      "execution_count": null,
      "metadata": {
        "id": "LHf0cGZt7fbO"
      },
      "outputs": [],
      "source": [
        "predict = model2.predict(x3_test).round()\n",
        "y_true = y2_test"
      ]
    },
    {
      "cell_type": "code",
      "execution_count": null,
      "metadata": {
        "colab": {
          "base_uri": "https://localhost:8080/"
        },
        "id": "oefJtf0N7aJn",
        "outputId": "037f4324-9ec0-46d3-ba98-7b854f3090b4"
      },
      "outputs": [
        {
          "name": "stdout",
          "output_type": "stream",
          "text": [
            "Prideicted Only class #1\n",
            "Class #11 \t 1\n",
            "Class #12 \t 0\n",
            "Class #13 \t 0\n",
            "Class #14 \t 44\n",
            "Class #112 \t 0\n",
            "Class #113 \t 0\n",
            "Class #114 \t 0\n",
            "Class #123 \t 0\n",
            "Class #124 \t 17\n",
            "Class #134 \t 0\n",
            "Class #1123 \t 0\n",
            "Class #1124 \t 0\n",
            "Class #1134 \t 0\n",
            "Class #1234 \t 0\n"
          ]
        }
      ],
      "source": [
        "print(\"Prideicted Only class #1\")\n",
        "print(\"Class #11 \\t\", len(np.nonzero(np.abs(predict - np.array([1., 0., 0., 0.])).sum(axis=1) < 0.1)[0]))\n",
        "print(\"Class #12 \\t\", len(np.nonzero(np.abs(predict - np.array([0., 1., 0., 0.])).sum(axis=1) < 0.1)[0]))\n",
        "print(\"Class #13 \\t\", len(np.nonzero(np.abs(predict - np.array([0., 0., 1., 0.])).sum(axis=1) < 0.1)[0]))\n",
        "print(\"Class #14 \\t\", len(np.nonzero(np.abs(predict - np.array([0., 0., 0., 1.])).sum(axis=1) < 0.1)[0]))\n",
        "print(\"Class #112 \\t\", len(np.nonzero(np.abs(predict - np.array([1., 1., 0., 0.])).sum(axis=1) < 0.1)[0]))\n",
        "print(\"Class #113 \\t\", len(np.nonzero(np.abs(predict - np.array([1., 0., 1., 0.])).sum(axis=1) < 0.1)[0]))\n",
        "print(\"Class #114 \\t\", len(np.nonzero(np.abs(predict - np.array([1., 0., 0., 1.])).sum(axis=1) < 0.1)[0]))\n",
        "print(\"Class #123 \\t\", len(np.nonzero(np.abs(predict - np.array([0., 1., 1., 0.])).sum(axis=1) < 0.1)[0]))\n",
        "print(\"Class #124 \\t\", len(np.nonzero(np.abs(predict - np.array([0., 1., 0., 1.])).sum(axis=1) < 0.1)[0]))\n",
        "print(\"Class #134 \\t\", len(np.nonzero(np.abs(predict - np.array([0., 0., 1., 1.])).sum(axis=1) < 0.1)[0]))\n",
        "print(\"Class #1123 \\t\", len(np.nonzero(np.abs(predict - np.array([1., 1., 1., 0.])).sum(axis=1) < 0.1)[0]))\n",
        "print(\"Class #1124 \\t\", len(np.nonzero(np.abs(predict - np.array([1., 1., 0., 1.])).sum(axis=1) < 0.1)[0]))\n",
        "print(\"Class #1134 \\t\", len(np.nonzero(np.abs(predict - np.array([1., 0., 1., 1.])).sum(axis=1) < 0.1)[0]))\n",
        "print(\"Class #1234 \\t\", len(np.nonzero(np.abs(predict - np.array([0., 1., 1., 1.])).sum(axis=1) < 0.1)[0]))"
      ]
    },
    {
      "cell_type": "code",
      "execution_count": null,
      "metadata": {
        "colab": {
          "base_uri": "https://localhost:8080/"
        },
        "id": "4TUI9B0c76i9",
        "outputId": "8d0b44b3-26d6-4c94-b2ba-447d3100493d"
      },
      "outputs": [
        {
          "name": "stdout",
          "output_type": "stream",
          "text": [
            "True\n",
            "Only class #1\n",
            "Invalid \t 5\n",
            "Class #11 \t 3\n",
            "Class #12 \t 22\n",
            "Class #13 \t 0\n",
            "Class #14 \t 29\n",
            "Class #112 \t 0\n",
            "Class #113 \t 0\n",
            "Class #114 \t 1\n",
            "Class #123 \t 0\n",
            "Class #124 \t 1\n",
            "Class #134 \t 1\n",
            "Class #1123 \t 0\n",
            "Class #1124 \t 0\n",
            "Class #1134 \t 0\n",
            "Class #1234 \t 0\n"
          ]
        }
      ],
      "source": [
        "print(\"True\")\n",
        "print(\"Only class #1\")\n",
        "print(\"Invalid \\t\", len(np.nonzero(np.abs(y3_test - np.array([0., 0., 0., 0.])).sum(axis=1) < 0.1)[0]))\n",
        "print(\"Class #11 \\t\", len(np.nonzero(np.abs(y3_test - np.array([1., 0., 0., 0.])).sum(axis=1) < 0.1)[0]))\n",
        "print(\"Class #12 \\t\", len(np.nonzero(np.abs(y3_test - np.array([0., 1., 0., 0.])).sum(axis=1) < 0.1)[0]))\n",
        "print(\"Class #13 \\t\", len(np.nonzero(np.abs(y3_test - np.array([0., 0., 1., 0.])).sum(axis=1) < 0.1)[0]))\n",
        "print(\"Class #14 \\t\", len(np.nonzero(np.abs(y3_test - np.array([0., 0., 0., 1.])).sum(axis=1) < 0.1)[0]))\n",
        "print(\"Class #112 \\t\", len(np.nonzero(np.abs(y3_test - np.array([1., 1., 0., 0.])).sum(axis=1) < 0.1)[0]))\n",
        "print(\"Class #113 \\t\", len(np.nonzero(np.abs(y3_test - np.array([1., 0., 1., 0.])).sum(axis=1) < 0.1)[0]))\n",
        "print(\"Class #114 \\t\", len(np.nonzero(np.abs(y3_test - np.array([1., 0., 0., 1.])).sum(axis=1) < 0.1)[0]))\n",
        "print(\"Class #123 \\t\", len(np.nonzero(np.abs(y3_test - np.array([0., 1., 1., 0.])).sum(axis=1) < 0.1)[0]))\n",
        "print(\"Class #124 \\t\", len(np.nonzero(np.abs(y3_test - np.array([0., 1., 0., 1.])).sum(axis=1) < 0.1)[0]))\n",
        "print(\"Class #134 \\t\", len(np.nonzero(np.abs(y3_test - np.array([0., 0., 1., 1.])).sum(axis=1) < 0.1)[0]))\n",
        "print(\"Class #1123 \\t\", len(np.nonzero(np.abs(y3_test - np.array([1., 1., 1., 0.])).sum(axis=1) < 0.1)[0]))\n",
        "print(\"Class #1124 \\t\", len(np.nonzero(np.abs(y3_test - np.array([1., 1., 0., 1.])).sum(axis=1) < 0.1)[0]))\n",
        "print(\"Class #1134 \\t\", len(np.nonzero(np.abs(y3_test - np.array([1., 0., 1., 1.])).sum(axis=1) < 0.1)[0]))\n",
        "print(\"Class #1234 \\t\", len(np.nonzero(np.abs(y3_test - np.array([0., 1., 1., 1.])).sum(axis=1) < 0.1)[0]))"
      ]
    }
  ],
  "metadata": {
    "colab": {
      "collapsed_sections": [
        "1yfq8pBMfY07",
        "VHTPhKgafe1L",
        "043g1x9fghcs"
      ],
      "toc_visible": true,
      "provenance": [],
      "include_colab_link": true
    },
    "kernelspec": {
      "display_name": "Python 3",
      "name": "python3"
    },
    "language_info": {
      "name": "python"
    }
  },
  "nbformat": 4,
  "nbformat_minor": 0
}